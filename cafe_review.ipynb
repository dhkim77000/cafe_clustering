{
 "cells": [
  {
   "cell_type": "code",
   "execution_count": 4,
   "metadata": {},
   "outputs": [
    {
     "name": "stdout",
     "output_type": "stream",
     "text": [
      "Requirement already satisfied: demoji in c:\\users\\dhkim\\anaconda3\\lib\\site-packages (1.1.0)\n",
      "Note: you may need to restart the kernel to use updated packages.\n"
     ]
    }
   ],
   "source": [
    "pip install demoji"
   ]
  },
  {
   "cell_type": "code",
   "execution_count": 1,
   "metadata": {},
   "outputs": [],
   "source": [
    "from selenium import webdriver\n",
    "from selenium.webdriver.common.keys import Keys\n",
    "import time\n",
    "import urllib.request\n",
    "import os\n",
    "import numpy as np\n",
    "from emoji import core\n",
    "from selenium.webdriver.common.action_chains import ActionChains\n",
    "import pandas as pd\n",
    "from urllib.parse import quote_plus          \n",
    "import time\n",
    "from pathlib import Path\n",
    "import os\n",
    "from urllib.request import (urlopen, urlparse, urlunparse, urlretrieve)\n",
    "from selenium.common.exceptions import NoSuchElementException\n",
    "from selenium.webdriver.common.action_chains import ActionChains\n",
    "import math\n",
    "import re\n",
    "from selenium.webdriver.chrome.service import Service\n",
    "import os \n",
    "from webdriver_manager.chrome import ChromeDriverManager\n",
    "from tqdm import tqdm\n",
    "import pdb\n",
    "import os\n",
    "from selenium.common.exceptions import TimeoutException\n",
    "from selenium.webdriver.common.by import By\n",
    "from selenium.webdriver.support import expected_conditions as EC\n",
    "from selenium.webdriver.support.ui import WebDriverWait\n",
    "import traceback         \n",
    "from selenium.webdriver.common.proxy import Proxy, ProxyType\n",
    "import csv\n",
    "import requests\n",
    "import json\n",
    "import random\n",
    "import psutil\n",
    "from datetime import datetime\n",
    "import pickle\n",
    "import warnings\n",
    "import demoji"
   ]
  },
  {
   "cell_type": "code",
   "execution_count": 2,
   "metadata": {},
   "outputs": [],
   "source": [
    "def selenium_scroll_down(driver):\n",
    "    SCROLL_PAUSE_SEC = 3\n",
    "    last_height = driver.execute_script(\"return document.body.scrollHeight\")\n",
    "    while True:\n",
    "        driver.execute_script(\"window.scrollTo(0, document.body.scrollHeight);\")\n",
    "        time.sleep(SCROLL_PAUSE_SEC)\n",
    "        new_height = driver.execute_script(\"return document.body.scrollHeight\")\n",
    "  \n",
    "        if new_height == last_height:\n",
    "            return 1\n",
    "        last_height = new_height\n",
    "\n",
    "\n",
    "def get_driver(chrome_path, chrome_options, url):\n",
    "    driver = None\n",
    "    count = 0\n",
    "    \n",
    "    while (driver == None) and (count < 10):\n",
    "            try:\n",
    "                driver = webdriver.Chrome(chrome_path, options=chrome_options)\n",
    "            except Exception:\n",
    "                count = count + 1\n",
    "                if driver: driver.quit()\n",
    "                continue\n",
    "    connect = False\n",
    "    \n",
    "    while connect == False: \n",
    "        try:\n",
    "            driver.get(url)\n",
    "            driver.implicitly_wait(10)\n",
    "            connect = True\n",
    "        except Exception:\n",
    "            del driver\n",
    "            driver = webdriver.Chrome(chrome_path, options=chrome_options)\n",
    "            continue\n",
    "    return driver\n",
    "\n",
    "def reset_driver(driver, chrome_path, chrome_options, url, cookies):\n",
    "\n",
    "    try :\n",
    "        driver.quit()\n",
    "        driver = get_driver(chrome_path, chrome_options, url, cookies)\n",
    "    except Exception:\n",
    "        driver = get_driver(chrome_path, chrome_options, url, cookies)\n",
    "    return driver\n",
    "\n",
    "\n",
    "def write_data(write_file, datas):\n",
    "\n",
    "    for data in datas:\n",
    "        write_file = write_file.append(data, ignore_index = True)\n",
    "    \n",
    "    return write_file"
   ]
  },
  {
   "cell_type": "code",
   "execution_count": 3,
   "metadata": {},
   "outputs": [],
   "source": [
    "#카페 페이지 방문해서 카페 정보 가져오는 코드\n",
    "def get_cafe_tag(driver):\n",
    "    try:\n",
    "        tags = WebDriverWait(driver, 5).until(EC.visibility_of_element_located((By.CLASS_NAME, 'txt_tag')))\n",
    "        tags = tags.find_elements(By.CLASS_NAME, 'link_tag')\n",
    "        return [tag.text for tag in tags]\n",
    "    except Exception as e: \n",
    "        #print(e)\n",
    "        return []\n",
    "\n",
    "def get_cafe_menu(drvier):\n",
    "    data = {}\n",
    "    try:\n",
    "        menu_list = WebDriverWait(driver, 2).until(EC.visibility_of_element_located((By.CLASS_NAME, 'list_menu')))\n",
    "        menu_list = menu_list.find_elements(By.TAG_NAME, 'li')\n",
    "        for menu in menu_list:\n",
    "            menu = menu.find_element(By.CLASS_NAME, 'info_menu').text.split('\\n')\n",
    "            data[menu[0]] = menu[-1].replace(',','')\n",
    "        return data\n",
    "    except Exception as e: \n",
    "        #print('No menu info')\n",
    "        return {}"
   ]
  },
  {
   "cell_type": "code",
   "execution_count": 4,
   "metadata": {},
   "outputs": [],
   "source": [
    "#리뷰 영역 찾고 그 안에 정보 가져오는데 필요한 함수\n",
    "def find_review_area(driver):\n",
    "    try:\n",
    "        reviews = WebDriverWait(driver, 5).until(EC.visibility_of_element_located((By.CLASS_NAME, 'evaluation_review')))\n",
    "        return reviews\n",
    "    except Exception as e: \n",
    "        #print(e)\n",
    "        return None\n",
    "def find_reviews(review_area):\n",
    "    try: return review_area.find_elements(By.TAG_NAME, 'li')\n",
    "    except Exception as e: \n",
    "        return None\n",
    "\n",
    "#----------------------------------------------------------------------------------------------\n",
    "def review_text(review, demoji):\n",
    "    try: \n",
    "        text = review.find_element(By.CLASS_NAME, 'comment_info').text.replace('\\n','. ')\n",
    "       \n",
    "        #emoji = demoji.findall(text)\n",
    "        #if len(emoji) != 0: \n",
    "            #for em in emoji: text = text.replace(em,'')\n",
    "        return text\n",
    "    except Exception as e: \n",
    "        #print(e)\n",
    "        return None\n",
    "def star(review):\n",
    "    try: \n",
    "        star = review.find_element(By.CLASS_NAME, 'ico_star.inner_star').get_attribute('style')\n",
    "        return int(star.replace('width: ','').replace('%;',''))\n",
    "    except: return None\n",
    "\n",
    "#----main function---------------------------------------------------------------------------\n",
    "def review_user_info(review, demoji):\n",
    "    try: \n",
    "        user = review.find_element(By.CLASS_NAME, 'unit_info')\n",
    "        user_info = user.text.split('\\n')\n",
    "        \n",
    "        user_id = user_info[0]\n",
    "        \n",
    "        emoji = demoji.findall(user_id)\n",
    "        if len(emoji) != 0: user_id = ''.join(emoji.values())\n",
    "            \n",
    "        review_count = int(user_info[2].replace(',',''))\n",
    "        rating_avg = float(user_info[4])\n",
    "        date = datetime.strptime(user_info[-1], '%Y.%m.%d.')\n",
    "        return user_id, review_count, rating_avg, date\n",
    "    except Exception as e: \n",
    "        print(e)\n",
    "        return None, None, None, None\n",
    "#------------sub function-------------------------------------------------------------------\n",
    "def get_user_id(user):\n",
    "    try: return user.find_element('link_user').text\n",
    "    except: return None\n",
    "def get_review_count(user):\n",
    "    try: return int(user.find_element('txt_desc').text.replace(',',''))\n",
    "    except: return None\n",
    "def get_rating_avg(user):\n",
    "    try: return float(user.find_element('txt_desc').text)\n",
    "    except: return None\n",
    "def get_date(user):\n",
    "    try: return datetime.strptime(user.find_element('time_write').text, '%Y-%m-%d')\n",
    "    except: return None\n",
    "#----------------------------------------------------------------------------------------------"
   ]
  },
  {
   "cell_type": "code",
   "execution_count": 5,
   "metadata": {},
   "outputs": [],
   "source": [
    "def concat_data(row, data):\n",
    "    total = pd.merge(row, data, on = 'link', how = 'right')\n",
    "    total['name'] = [row.name.values[0]] * len(total)\n",
    "    total['category'] = [row.category.values[0]] * len(total)\n",
    "    total['location'] = [row.location.values[0]] * len(total)\n",
    "    total['rating'] = [row.rating.values[0]] * len(total)\n",
    "    total['review_num'] = [row.review_num.values[0]] * len(total)\n",
    "    total['rating_num'] = [row.rating_num.values[0]] * len(total)\n",
    "    total['\topen_hour'] = [row.open_hour.values[0]] * len(total)\n",
    "    return total\n"
   ]
  },
  {
   "cell_type": "code",
   "execution_count": 6,
   "metadata": {},
   "outputs": [],
   "source": [
    "def save(df,path, code, n):\n",
    "    if n < len(code):\n",
    "        unicode = code[n]\n",
    "        try: \n",
    "            df.to_csv(path ,encoding = unicode, index=False)\n",
    "            return True\n",
    "        except Exception as e:\n",
    "            print(e)\n",
    "            return save(df, path, code, n+1)\n",
    "    else: return False"
   ]
  },
  {
   "cell_type": "code",
   "execution_count": 7,
   "metadata": {},
   "outputs": [],
   "source": [
    "def blog_title(driver):\n",
    "    try: return driver.find_element(By.CLASS_NAME, 'pcol1').text\n",
    "    except Exception as e:\n",
    "        return None\n",
    "def blog_date(driver):\n",
    "    try: \n",
    "        date = driver.find_element(By.CLASS_NAME,'se_publishDate.pcol2').text\n",
    "        return datetime.strptime(date, '%Y. %m. %d. %H:%M')\n",
    "    except: return None\n",
    "def blog_text(driver):\n",
    "    try:  \n",
    "        text = driver.find_element(By.CLASS_NAME,'se-main-container').text\n",
    "        return text.replace('\\n','.')\n",
    "    except: return None\n",
    "def blog_hashtag(driver):\n",
    "    try: \n",
    "        hashtag = driver.find_element(By.CLASS_NAME,'wrap_tag').text.split('#')\n",
    "        return str([tag.replace('\\n','') for tag in hashtag])\n",
    "    except: '[]'\n",
    "        \n",
    "def blog_writer(driver):\n",
    "    try: return driver.find_element(By.CLASS_NAME,'writer').text\n",
    "    except: return None\n",
    "        \n",
    "# 블로그 링크 접속 후 리뷰 크롤링\n",
    "def blog_crawling(driver, link_list):\n",
    "\n",
    "    blog_list = []\n",
    "    title_list = []\n",
    "    writer_list = []\n",
    "    date_list = []\n",
    "    content_list = []\n",
    "    hashtag_list = []\n",
    "\n",
    "    for link in link_list:\n",
    "        data = {}\n",
    "        driver.get(link)\n",
    "        time.sleep(0.5)\n",
    "        try:\n",
    "            driver.switch_to.frame(\"mainFrame\")\n",
    "            blog_list.append(link)\n",
    "            title_list.append(blog_title(driver))\n",
    "            writer_list.append(blog_writer(driver))\n",
    "            date_list.append(blog_date(driver))\n",
    "            content_list.append(blog_text(driver))\n",
    "            hashtag_list.append(blog_hashtag(driver))\n",
    "        except Exception as e:\n",
    "            print(e)\n",
    "            \n",
    "    blog_review = pd.DataFrame({'blog':blog_list,\n",
    "                            'title':title_list,\n",
    "                            'user_id':writer_list,\n",
    "                            'date':date_list,\n",
    "                            'contents':content_list,\n",
    "                                'hashtag':hashtag_list})      \n",
    "    return blog_review\n",
    "\n",
    "\n",
    "\n",
    "    \n",
    "\n",
    "\n",
    "\n",
    "# 블로그 리뷰 영역 추출\n",
    "def get_blog_review_area(driver):\n",
    "    try:\n",
    "        return WebDriverWait(driver, 5).until(EC.presence_of_element_located((By.CLASS_NAME, 'cont_review')))\n",
    "    except: None\n",
    "\n",
    "# 블로그 리뷰 더보기 클릭\n",
    "def blog_click_more(blog_area):\n",
    "    try:\n",
    "        button = WebDriverWait(blog_area, 5).until(EC.presence_of_element_located((By.CLASS_NAME, 'link_more')))\n",
    "        if button.get_attribute(\"class\") != 'link_more link_close':\n",
    "            button.click()\n",
    "            return True\n",
    "        else: return False\n",
    "    except Exception as e:\n",
    "        return False\n",
    "\n",
    "# 블로그 리뷰로 등록된 블로그 링크 추출\n",
    "def get_blog_review_link(blog_area):\n",
    "    link_list = []\n",
    "    try:\n",
    "        list_review = blog_area.find_element(By.CLASS_NAME, 'list_review').find_elements(By.TAG_NAME, 'li')\n",
    "        for i in list_review:\n",
    "            link = i.find_element(By.TAG_NAME, 'a').get_attribute('href')\n",
    "            link_list.append(link)\n",
    "        link_list = list(set(link_list))\n",
    "        link_list = [i for i in link_list if i[:22]=='http://blog.naver.com/']\n",
    "        link_num = round(len(link_list) * 0.2) + 1\n",
    "        link_list = link_list[:link_num]\n",
    "        return link_list         \n",
    "    except:\n",
    "        return None\n",
    "    \n",
    "    \n",
    "# 최종 카카오맵 블로그 리뷰 크롤링 함수\n",
    "def naver_blog_review(driver, link):\n",
    "    \n",
    "    blog_area = get_blog_review_area(driver)\n",
    "    \n",
    "    more = True\n",
    "    while more == True:\n",
    "        more = blog_click_more(blog_area)\n",
    "        time.sleep(0.5)\n",
    "    more = blog_click_more(blog_area)\n",
    "    time.sleep(1)\n",
    "\n",
    "    blog_area = get_blog_review_area(driver)\n",
    "    link_list = get_blog_review_link(blog_area)\n",
    "    if link_list: \n",
    "        blog_review = blog_crawling(driver, link_list)\n",
    "        blog_review['link'] = [link] * len(blog_review)\n",
    "        return blog_review, True\n",
    "    else: return None, False\n",
    " "
   ]
  },
  {
   "cell_type": "code",
   "execution_count": 70,
   "metadata": {},
   "outputs": [],
   "source": [
    "def click_more(review_area, actions):\n",
    "    try:\n",
    "        button = WebDriverWait(review_area, 5).until(EC.presence_of_element_located((By.CLASS_NAME, 'link_more')))\n",
    "        if button.get_attribute(\"class\") != 'link_more link_unfold':\n",
    "            actions.move_to_element(button).perform()\n",
    "            button.click()\n",
    "            time.sleep(0.5)\n",
    "            return True\n",
    "        else: return False\n",
    "    except Exception as e:\n",
    "        return False\n",
    "    \n",
    "\n",
    "\n",
    "def crawl_data(driver, actions, demoji, row):\n",
    "    try:\n",
    "        url = row.link.values[0]\n",
    "        driver.get(url)\n",
    "\n",
    "        #hashtag = get_cafe_tag(driver)\n",
    "        \n",
    "    #카페 데이터(메뉴 정보 등) 얻기 ------------------------------------------------------------------\n",
    "        menu = get_cafe_menu(driver)\n",
    "        try:\n",
    "            if 'Americano' in set(menu.keys()): row['Americano'] = int(menu['Americano'].replace(',',''))\n",
    "            elif 'americano' in set(menu.keys()): row['Americano'] = int(menu['americano'].replace(',',''))\n",
    "            elif '아메리카노' in set(menu.keys()): row['Americano'] = int(menu['아메리카노'].replace(',',''))\n",
    "            elif '아이스커피' in set(menu.keys()): row['Americano'] = int(menu['아이스커피'].replace(',',''))\n",
    "            elif '아이스 커피' in set(menu.keys()): row['Americano'] = int(menu['아이스 커피'].replace(',',''))\n",
    "            elif '아메리카노(HOT)' in set(menu.keys()): row['Americano'] = int(menu['아메리카노(HOT)'].replace(',',''))\n",
    "            elif '아메리카노(ICE)' in set(menu.keys()): row['Americano'] = int(menu['아메리카노(ICE)'].replace(',',''))\n",
    "\n",
    "        except: row['Americano'] = None\n",
    "\n",
    "        time.sleep(random.randrange(2))\n",
    "    #카카오 리뷰 펼치기 ---------------------------------------------------------------------------\n",
    "        review_area = find_review_area(driver)\n",
    "        row['menu'] = str(menu)\n",
    "        more = True\n",
    "        while more == True:\n",
    "            more = click_more(review_area, actions)\n",
    "    #카카오 리뷰 긁기 ---------------------------------------------------------------------------\n",
    "        kakao = False\n",
    "        if row.rating_num.values[0] != None:\n",
    "            if int(row.rating_num.values[0]) != 0:\n",
    "                review_area = find_review_area(driver)\n",
    "                if review_area != None:\n",
    "                    review_area = review_area.find_element(By.CLASS_NAME, 'list_evaluation')\n",
    "                    reviews = find_reviews(review_area)    \n",
    "                    datas = []\n",
    "                    #컬럼 이름 맞춰야함\n",
    "                    cafe_data = pd.DataFrame(columns = ['link','user_id','user_review_count',\n",
    "                                                        'user_rating_avg','star','date',\n",
    "                                                       'title','contents','hashtag','blog'])\n",
    "                    for review in reviews:\n",
    "                        if review.get_attribute('data-id') != None:\n",
    "                            data = {}\n",
    "                            data['link'] = url\n",
    "                            data['user_id'], data['user_review_count'], data['user_rating_avg'], data['date'] = review_user_info(review, demoji)\n",
    "                            data['star'] = star(review)\n",
    "                            data['contents'] = review_text(review, demoji)\n",
    "                            data['title'] = None\n",
    "                            data['hashtag'] = None\n",
    "                            data['blog'] = None\n",
    "                            datas.append(data)\n",
    "\n",
    "                    cafe_data_kakao =  write_data(cafe_data, datas)\n",
    "                    #카페 정보 + 리뷰 데이터 합니는 과정\n",
    "                    cafe_data_kakao = concat_data(row, cafe_data_kakao)\n",
    "                    kakao = True\n",
    "                    print('kakao done')\n",
    "\n",
    "\n",
    "    #네이버 리뷰 긁기 ---------------------------------------------------------------------------\n",
    "        naver = False\n",
    "        if row.review_num.values[0] != None:\n",
    "            if (int(row.review_num.values[0]) != 0):\n",
    "                cafe_data_naver, success = naver_blog_review(driver, url)\n",
    "                if success:\n",
    "                    cafe_data_naver = concat_data(row, cafe_data_naver)\n",
    "                    naver = True\n",
    "                    print('naver done')\n",
    "        else: cafe_data_naver = None\n",
    "\n",
    "    #전체 합치기 ---------------------------------------------------------------------------\n",
    "        if naver and kakao:\n",
    "            total = pd.concat([cafe_data_kakao, cafe_data_naver], axis = 0).reset_index()\n",
    "            return total, True\n",
    "        elif naver: return cafe_data_naver, True\n",
    "        elif kakao: return cafe_data_kakao, True\n",
    "        else: return 0, False\n",
    "    except: return 0, False\n"
   ]
  },
  {
   "cell_type": "code",
   "execution_count": 71,
   "metadata": {},
   "outputs": [],
   "source": [
    "def total_crawler(driver, cafe_list, visited):\n",
    "    demoji.download_codes()\n",
    "    actions = ActionChains(driver)\n",
    "    code = ['utf-8-sig', 'utf-8','euc-kr','cp949','utf-16','utf-16-sig','utf-32','utf-32-sig']\n",
    "    \n",
    "    total = pd.read_csv('BDM/cafe/cafe_total1.csv')\n",
    "    for i in tqdm(range(2286+140+6, len(cafe_list))):\n",
    "        row = cafe_list.iloc[i:i+1,:]\n",
    "        url = row.link.values[0]\n",
    "        if (url not in visited):\n",
    "            cafe_df, success = crawl_data(driver, actions, demoji, row)\n",
    "            if success:\n",
    "                if i == 2286+140+6: \n",
    "                    #total = cafe_df\n",
    "                    total = pd.read_csv('BDM/cafe/cafe_total.csv')\n",
    "                else:\n",
    "                    total = pd.concat([total, cafe_df], axis = 0)\n",
    "                    total.reset_index(drop=True, inplace=True)\n",
    "                save(total,'BDM/cafe/cafe_total1.csv', code, 0)\n",
    "        "
   ]
  },
  {
   "cell_type": "code",
   "execution_count": 10,
   "metadata": {},
   "outputs": [],
   "source": [
    "#여기서 부터는 실행을 하기 위한 코드 순서대로 실행"
   ]
  },
  {
   "cell_type": "code",
   "execution_count": 18,
   "metadata": {},
   "outputs": [],
   "source": [
    "chrome_options = webdriver.ChromeOptions()\n",
    "chrome_options.add_argument('--no-sandbox')\n",
    "chrome_options.add_argument('--disable-setuid-sandbox')\n",
    "chrome_options.add_argument('--disable-dev-shm-usage')\n",
    "chrome_options.add_argument(\"--disable-extensions\")\n",
    "chrome_options.add_experimental_option(\"excludeSwitches\", [\"enable-automation\"])\n",
    "chrome_options.add_experimental_option('useAutomationExtension', False)\n",
    "chrome_options.add_argument('--ignore-certificate-errors')\n",
    "chrome_options.add_argument('--allow-running-insecure-content')\n",
    "chrome_options.add_argument(\"--single-process\")\n",
    "chrome_options.add_argument(\"disable-infobars\")\n",
    "#chrome_options.add_argument(\"--start-maximized\")\n",
    "user_agent = 'Mozilla/5.0 (Windows NT 10.0; Win64; x64) AppleWebKit/537.36 (KHTML, like Gecko) Chrome/95.0.4638.54 Safari/537.36'\n",
    "chrome_options.add_argument(f'user-agent={user_agent}')\n",
    "os.environ['WDM_LOG_LEVEL'] = '0'\n",
    "os.environ['WDM_LOG'] = \"false\"\n",
    "warnings.filterwarnings(\"ignore\")\n",
    "\n",
    "#본인 크롬 드라이버 위치한 파일 디렉토리 \n",
    "chrome_path = 'C:\\\\Users\\\\dhkim\\\\IMG_Classifier\\\\chromedriver.exe'\n"
   ]
  },
  {
   "cell_type": "code",
   "execution_count": 69,
   "metadata": {},
   "outputs": [],
   "source": [
    "driver =  get_driver(chrome_path, chrome_options, 'https://place.map.kakao.com/853028118')"
   ]
  },
  {
   "cell_type": "code",
   "execution_count": 10,
   "metadata": {},
   "outputs": [],
   "source": [
    "#카페 리스트 파일 읽기(자기가 저장한 경로 알아서 입력)\n",
    "cafe_list = pd.read_csv('BDM/cafe/cafe_info.csv')\n",
    "cafe_list.rating_num = cafe_list.rating_num.fillna(0)\n",
    "cafe_list.review_num = cafe_list.review_num.fillna(0)\n",
    "cafe_list.drop_duplicates(inplace =True)\n",
    "cafe_list.reset_index(inplace = True)"
   ]
  },
  {
   "cell_type": "code",
   "execution_count": 11,
   "metadata": {},
   "outputs": [],
   "source": [
    "#괄호 안에 자기 번호 넣기\n",
    "cafe_list = np.array_split(cafe_list, 5)[1]\n",
    "#마지막으로 실행된 번호\n",
    "cafe_list = cafe_list[1100:]\n",
    "cafe_list = cafe_list.sample(frac = 1).reset_index(drop = True)"
   ]
  },
  {
   "cell_type": "code",
   "execution_count": 27,
   "metadata": {},
   "outputs": [],
   "source": [
    "visited = pd.read_csv('BDM/cafe/cafe_total1.csv')['link']"
   ]
  },
  {
   "cell_type": "code",
   "execution_count": 28,
   "metadata": {},
   "outputs": [],
   "source": [
    "visited = set(visited)"
   ]
  },
  {
   "cell_type": "code",
   "execution_count": null,
   "metadata": {},
   "outputs": [
    {
     "name": "stderr",
     "output_type": "stream",
     "text": [
      "  0%|          | 1/2074 [00:21<12:16:39, 21.32s/it]"
     ]
    },
    {
     "name": "stdout",
     "output_type": "stream",
     "text": [
      "kakao done\n"
     ]
    },
    {
     "name": "stderr",
     "output_type": "stream",
     "text": [
      "\r",
      "  0%|          | 2/2074 [01:10<21:51:47, 37.99s/it]"
     ]
    },
    {
     "name": "stdout",
     "output_type": "stream",
     "text": [
      "kakao done\n",
      "naver done\n"
     ]
    },
    {
     "name": "stderr",
     "output_type": "stream",
     "text": [
      "\r",
      "  0%|          | 3/2074 [01:51<22:33:24, 39.21s/it]"
     ]
    },
    {
     "name": "stdout",
     "output_type": "stream",
     "text": [
      "kakao done\n",
      "naver done\n"
     ]
    },
    {
     "name": "stderr",
     "output_type": "stream",
     "text": [
      "\r",
      "  0%|          | 4/2074 [02:37<24:00:46, 41.76s/it]"
     ]
    },
    {
     "name": "stdout",
     "output_type": "stream",
     "text": [
      "kakao done\n",
      "naver done\n"
     ]
    },
    {
     "name": "stderr",
     "output_type": "stream",
     "text": [
      "\r",
      "  0%|          | 5/2074 [03:23<24:51:16, 43.25s/it]"
     ]
    },
    {
     "name": "stdout",
     "output_type": "stream",
     "text": [
      "kakao done\n",
      "naver done\n"
     ]
    },
    {
     "name": "stderr",
     "output_type": "stream",
     "text": [
      "  0%|          | 7/2074 [04:31<21:30:22, 37.46s/it]"
     ]
    },
    {
     "name": "stdout",
     "output_type": "stream",
     "text": [
      "kakao done\n",
      "naver done\n"
     ]
    },
    {
     "name": "stderr",
     "output_type": "stream",
     "text": [
      "\r",
      "  0%|          | 8/2074 [04:48<17:42:00, 30.84s/it]"
     ]
    },
    {
     "name": "stdout",
     "output_type": "stream",
     "text": [
      "kakao done\n",
      "Alert Text: 게시물이 삭제되었거나 다른 페이지로 변경되었습니다.\n",
      "Message: unexpected alert open: {Alert text : 게시물이 삭제되었거나 다른 페이지로 변경되었습니다.}\n",
      "  (Session info: chrome=108.0.5359.99)\n",
      "Stacktrace:\n",
      "Backtrace:\n",
      "\t(No symbol) [0x00EDF243]\n",
      "\t(No symbol) [0x00E67FD1]\n",
      "\t(No symbol) [0x00D5D04D]\n",
      "\t(No symbol) [0x00DBC836]\n",
      "\t(No symbol) [0x00DA8386]\n",
      "\t(No symbol) [0x00D8163C]\n",
      "\t(No symbol) [0x00D8269D]\n",
      "\tGetHandleVerifier [0x01179A22+2655074]\n",
      "\tGetHandleVerifier [0x0116CA24+2601828]\n",
      "\tGetHandleVerifier [0x00F88C0A+619850]\n",
      "\tGetHandleVerifier [0x00F87830+614768]\n",
      "\t(No symbol) [0x00E705FC]\n",
      "\t(No symbol) [0x00E75968]\n",
      "\t(No symbol) [0x00E75A55]\n",
      "\t(No symbol) [0x00E8051B]\n",
      "\tBaseThreadInitThunk [0x76736939+25]\n",
      "\tRtlGetFullPathName_UEx [0x77798FD2+1218]\n",
      "\tRtlGetFullPathName_UEx [0x77798F9D+1165]\n",
      "\n",
      "naver done\n"
     ]
    },
    {
     "name": "stderr",
     "output_type": "stream",
     "text": [
      "\r",
      "  0%|          | 9/2074 [05:16<17:18:24, 30.17s/it]"
     ]
    },
    {
     "name": "stdout",
     "output_type": "stream",
     "text": [
      "kakao done\n",
      "naver done\n"
     ]
    },
    {
     "name": "stderr",
     "output_type": "stream",
     "text": [
      "\r",
      "  0%|          | 10/2074 [05:34<15:00:18, 26.17s/it]"
     ]
    },
    {
     "name": "stdout",
     "output_type": "stream",
     "text": [
      "kakao done\n",
      "naver done\n"
     ]
    },
    {
     "name": "stderr",
     "output_type": "stream",
     "text": [
      "\r",
      "  1%|          | 11/2074 [06:36<21:18:49, 37.19s/it]"
     ]
    },
    {
     "name": "stdout",
     "output_type": "stream",
     "text": [
      "kakao done\n",
      "Alert Text: 비공개 글 입니다.\n",
      "Message: unexpected alert open: {Alert text : 비공개 글 입니다.}\n",
      "  (Session info: chrome=108.0.5359.99)\n",
      "Stacktrace:\n",
      "Backtrace:\n",
      "\t(No symbol) [0x00EDF243]\n",
      "\t(No symbol) [0x00E67FD1]\n",
      "\t(No symbol) [0x00D5D04D]\n",
      "\t(No symbol) [0x00DBC836]\n",
      "\t(No symbol) [0x00DA8386]\n",
      "\t(No symbol) [0x00D8163C]\n",
      "\t(No symbol) [0x00D8269D]\n",
      "\tGetHandleVerifier [0x01179A22+2655074]\n",
      "\tGetHandleVerifier [0x0116CA24+2601828]\n",
      "\tGetHandleVerifier [0x00F88C0A+619850]\n",
      "\tGetHandleVerifier [0x00F87830+614768]\n",
      "\t(No symbol) [0x00E705FC]\n",
      "\t(No symbol) [0x00E75968]\n",
      "\t(No symbol) [0x00E75A55]\n",
      "\t(No symbol) [0x00E8051B]\n",
      "\tBaseThreadInitThunk [0x76736939+25]\n",
      "\tRtlGetFullPathName_UEx [0x77798FD2+1218]\n",
      "\tRtlGetFullPathName_UEx [0x77798F9D+1165]\n",
      "\n",
      "naver done\n"
     ]
    },
    {
     "name": "stderr",
     "output_type": "stream",
     "text": [
      "  1%|          | 13/2074 [07:29<18:00:11, 31.45s/it]"
     ]
    },
    {
     "name": "stdout",
     "output_type": "stream",
     "text": [
      "kakao done\n"
     ]
    },
    {
     "name": "stderr",
     "output_type": "stream",
     "text": [
      "\r",
      "  1%|          | 14/2074 [07:52<16:29:01, 28.81s/it]"
     ]
    },
    {
     "name": "stdout",
     "output_type": "stream",
     "text": [
      "kakao done\n",
      "naver done\n"
     ]
    },
    {
     "name": "stderr",
     "output_type": "stream",
     "text": [
      "\r",
      "  1%|          | 15/2074 [08:46<20:47:06, 36.34s/it]"
     ]
    },
    {
     "name": "stdout",
     "output_type": "stream",
     "text": [
      "kakao done\n",
      "naver done\n"
     ]
    },
    {
     "name": "stderr",
     "output_type": "stream",
     "text": [
      "  1%|          | 17/2074 [09:43<18:13:34, 31.90s/it]"
     ]
    },
    {
     "name": "stdout",
     "output_type": "stream",
     "text": [
      "kakao done\n",
      "naver done\n"
     ]
    },
    {
     "name": "stderr",
     "output_type": "stream",
     "text": [
      "\r",
      "  1%|          | 18/2074 [10:37<21:58:20, 38.47s/it]"
     ]
    },
    {
     "name": "stdout",
     "output_type": "stream",
     "text": [
      "kakao done\n",
      "naver done\n"
     ]
    },
    {
     "name": "stderr",
     "output_type": "stream",
     "text": [
      "\r",
      "  1%|          | 19/2074 [11:24<23:19:19, 40.86s/it]"
     ]
    },
    {
     "name": "stdout",
     "output_type": "stream",
     "text": [
      "kakao done\n",
      "naver done\n"
     ]
    },
    {
     "name": "stderr",
     "output_type": "stream",
     "text": [
      "\r",
      "  1%|          | 20/2074 [12:20<25:56:27, 45.47s/it]"
     ]
    },
    {
     "name": "stdout",
     "output_type": "stream",
     "text": [
      "kakao done\n",
      "naver done\n"
     ]
    },
    {
     "name": "stderr",
     "output_type": "stream",
     "text": [
      "  1%|          | 23/2074 [14:01<20:04:08, 35.23s/it]"
     ]
    },
    {
     "name": "stdout",
     "output_type": "stream",
     "text": [
      "kakao done\n",
      "naver done\n"
     ]
    },
    {
     "name": "stderr",
     "output_type": "stream",
     "text": [
      "\r",
      "  1%|          | 24/2074 [14:24<17:59:15, 31.59s/it]"
     ]
    },
    {
     "name": "stdout",
     "output_type": "stream",
     "text": [
      "kakao done\n",
      "naver done\n"
     ]
    },
    {
     "name": "stderr",
     "output_type": "stream",
     "text": [
      "\r",
      "  1%|          | 25/2074 [16:27<33:40:26, 59.16s/it]"
     ]
    },
    {
     "name": "stdout",
     "output_type": "stream",
     "text": [
      "kakao done\n",
      "naver done\n"
     ]
    },
    {
     "name": "stderr",
     "output_type": "stream",
     "text": [
      "\r",
      "  1%|▏         | 26/2074 [17:11<31:01:15, 54.53s/it]"
     ]
    },
    {
     "name": "stdout",
     "output_type": "stream",
     "text": [
      "kakao done\n",
      "Alert Text: 게시물이 삭제되었거나 다른 페이지로 변경되었습니다.\n",
      "Message: unexpected alert open: {Alert text : 게시물이 삭제되었거나 다른 페이지로 변경되었습니다.}\n",
      "  (Session info: chrome=108.0.5359.99)\n",
      "Stacktrace:\n",
      "Backtrace:\n",
      "\t(No symbol) [0x00EDF243]\n",
      "\t(No symbol) [0x00E67FD1]\n",
      "\t(No symbol) [0x00D5D04D]\n",
      "\t(No symbol) [0x00DBC836]\n",
      "\t(No symbol) [0x00DA8386]\n",
      "\t(No symbol) [0x00D8163C]\n",
      "\t(No symbol) [0x00D8269D]\n",
      "\tGetHandleVerifier [0x01179A22+2655074]\n",
      "\tGetHandleVerifier [0x0116CA24+2601828]\n",
      "\tGetHandleVerifier [0x00F88C0A+619850]\n",
      "\tGetHandleVerifier [0x00F87830+614768]\n",
      "\t(No symbol) [0x00E705FC]\n",
      "\t(No symbol) [0x00E75968]\n",
      "\t(No symbol) [0x00E75A55]\n",
      "\t(No symbol) [0x00E8051B]\n",
      "\tBaseThreadInitThunk [0x76736939+25]\n",
      "\tRtlGetFullPathName_UEx [0x77798FD2+1218]\n",
      "\tRtlGetFullPathName_UEx [0x77798F9D+1165]\n",
      "\n",
      "Alert Text: 비공개 글 입니다.\n",
      "Message: unexpected alert open: {Alert text : 비공개 글 입니다.}\n",
      "  (Session info: chrome=108.0.5359.99)\n",
      "Stacktrace:\n",
      "Backtrace:\n",
      "\t(No symbol) [0x00EDF243]\n",
      "\t(No symbol) [0x00E67FD1]\n",
      "\t(No symbol) [0x00D5D04D]\n",
      "\t(No symbol) [0x00DBC836]\n",
      "\t(No symbol) [0x00DA8386]\n",
      "\t(No symbol) [0x00D8163C]\n",
      "\t(No symbol) [0x00D8269D]\n",
      "\tGetHandleVerifier [0x01179A22+2655074]\n",
      "\tGetHandleVerifier [0x0116CA24+2601828]\n",
      "\tGetHandleVerifier [0x00F88C0A+619850]\n",
      "\tGetHandleVerifier [0x00F87830+614768]\n",
      "\t(No symbol) [0x00E705FC]\n",
      "\t(No symbol) [0x00E75968]\n",
      "\t(No symbol) [0x00E75A55]\n",
      "\t(No symbol) [0x00E8051B]\n",
      "\tBaseThreadInitThunk [0x76736939+25]\n",
      "\tRtlGetFullPathName_UEx [0x77798FD2+1218]\n",
      "\tRtlGetFullPathName_UEx [0x77798F9D+1165]\n",
      "\n",
      "naver done\n"
     ]
    },
    {
     "name": "stderr",
     "output_type": "stream",
     "text": [
      "\r",
      "  1%|▏         | 27/2074 [18:25<34:20:34, 60.40s/it]"
     ]
    },
    {
     "name": "stdout",
     "output_type": "stream",
     "text": [
      "kakao done\n"
     ]
    },
    {
     "name": "stderr",
     "output_type": "stream",
     "text": [
      "\r",
      "  1%|▏         | 28/2074 [18:39<26:20:38, 46.35s/it]"
     ]
    },
    {
     "name": "stdout",
     "output_type": "stream",
     "text": [
      "kakao done\n",
      "Alert Text: 비공개 글 입니다.\n",
      "Message: unexpected alert open: {Alert text : 비공개 글 입니다.}\n",
      "  (Session info: chrome=108.0.5359.99)\n",
      "Stacktrace:\n",
      "Backtrace:\n",
      "\t(No symbol) [0x00EDF243]\n",
      "\t(No symbol) [0x00E67FD1]\n",
      "\t(No symbol) [0x00D5D04D]\n",
      "\t(No symbol) [0x00DBC836]\n",
      "\t(No symbol) [0x00DA8386]\n",
      "\t(No symbol) [0x00D8163C]\n",
      "\t(No symbol) [0x00D8269D]\n",
      "\tGetHandleVerifier [0x01179A22+2655074]\n",
      "\tGetHandleVerifier [0x0116CA24+2601828]\n",
      "\tGetHandleVerifier [0x00F88C0A+619850]\n",
      "\tGetHandleVerifier [0x00F87830+614768]\n",
      "\t(No symbol) [0x00E705FC]\n",
      "\t(No symbol) [0x00E75968]\n",
      "\t(No symbol) [0x00E75A55]\n",
      "\t(No symbol) [0x00E8051B]\n",
      "\tBaseThreadInitThunk [0x76736939+25]\n",
      "\tRtlGetFullPathName_UEx [0x77798FD2+1218]\n",
      "\tRtlGetFullPathName_UEx [0x77798F9D+1165]\n",
      "\n",
      "naver done\n"
     ]
    },
    {
     "name": "stderr",
     "output_type": "stream",
     "text": [
      "\r",
      "  1%|▏         | 29/2074 [19:17<24:58:22, 43.96s/it]"
     ]
    },
    {
     "name": "stdout",
     "output_type": "stream",
     "text": [
      "kakao done\n",
      "naver done\n"
     ]
    },
    {
     "name": "stderr",
     "output_type": "stream",
     "text": [
      "\r",
      "  1%|▏         | 30/2074 [19:35<20:33:16, 36.20s/it]"
     ]
    },
    {
     "name": "stdout",
     "output_type": "stream",
     "text": [
      "naver done\n"
     ]
    },
    {
     "name": "stderr",
     "output_type": "stream",
     "text": [
      "  2%|▏         | 32/2074 [20:34<18:12:22, 32.10s/it]"
     ]
    },
    {
     "name": "stdout",
     "output_type": "stream",
     "text": [
      "kakao done\n",
      "naver done\n"
     ]
    },
    {
     "name": "stderr",
     "output_type": "stream",
     "text": [
      "\r",
      "  2%|▏         | 33/2074 [21:30<22:12:12, 39.16s/it]"
     ]
    },
    {
     "name": "stdout",
     "output_type": "stream",
     "text": [
      "kakao done\n",
      "naver done\n"
     ]
    },
    {
     "name": "stderr",
     "output_type": "stream",
     "text": [
      "\r",
      "  2%|▏         | 34/2074 [22:16<23:27:28, 41.40s/it]"
     ]
    },
    {
     "name": "stdout",
     "output_type": "stream",
     "text": [
      "kakao done\n",
      "naver done\n"
     ]
    },
    {
     "name": "stderr",
     "output_type": "stream",
     "text": [
      "\r",
      "  2%|▏         | 35/2074 [23:59<33:47:18, 59.66s/it]"
     ]
    },
    {
     "name": "stdout",
     "output_type": "stream",
     "text": [
      "kakao done\n",
      "naver done\n"
     ]
    },
    {
     "name": "stderr",
     "output_type": "stream",
     "text": [
      "\r",
      "  2%|▏         | 36/2074 [24:48<32:02:30, 56.60s/it]"
     ]
    },
    {
     "name": "stdout",
     "output_type": "stream",
     "text": [
      "kakao done\n",
      "naver done\n"
     ]
    },
    {
     "name": "stderr",
     "output_type": "stream",
     "text": [
      "\r",
      "  2%|▏         | 37/2074 [25:19<27:43:10, 48.99s/it]"
     ]
    },
    {
     "name": "stdout",
     "output_type": "stream",
     "text": [
      "kakao done\n",
      "Alert Text: 비공개 글 입니다.\n",
      "Message: unexpected alert open: {Alert text : 비공개 글 입니다.}\n",
      "  (Session info: chrome=108.0.5359.99)\n",
      "Stacktrace:\n",
      "Backtrace:\n",
      "\t(No symbol) [0x00EDF243]\n",
      "\t(No symbol) [0x00E67FD1]\n",
      "\t(No symbol) [0x00D5D04D]\n",
      "\t(No symbol) [0x00DBC836]\n",
      "\t(No symbol) [0x00DA8386]\n",
      "\t(No symbol) [0x00D8163C]\n",
      "\t(No symbol) [0x00D8269D]\n",
      "\tGetHandleVerifier [0x01179A22+2655074]\n",
      "\tGetHandleVerifier [0x0116CA24+2601828]\n",
      "\tGetHandleVerifier [0x00F88C0A+619850]\n",
      "\tGetHandleVerifier [0x00F87830+614768]\n",
      "\t(No symbol) [0x00E705FC]\n",
      "\t(No symbol) [0x00E75968]\n",
      "\t(No symbol) [0x00E75A55]\n",
      "\t(No symbol) [0x00E8051B]\n",
      "\tBaseThreadInitThunk [0x76736939+25]\n",
      "\tRtlGetFullPathName_UEx [0x77798FD2+1218]\n",
      "\tRtlGetFullPathName_UEx [0x77798F9D+1165]\n",
      "\n",
      "naver done\n"
     ]
    },
    {
     "name": "stderr",
     "output_type": "stream",
     "text": [
      "\r",
      "  2%|▏         | 38/2074 [25:58<25:57:19, 45.89s/it]"
     ]
    },
    {
     "name": "stdout",
     "output_type": "stream",
     "text": [
      "kakao done\n",
      "naver done\n"
     ]
    },
    {
     "name": "stderr",
     "output_type": "stream",
     "text": [
      "\r",
      "  2%|▏         | 39/2074 [26:26<22:52:10, 40.46s/it]"
     ]
    },
    {
     "name": "stdout",
     "output_type": "stream",
     "text": [
      "kakao done\n",
      "naver done\n"
     ]
    },
    {
     "name": "stderr",
     "output_type": "stream",
     "text": [
      "\r",
      "  2%|▏         | 40/2074 [27:24<25:51:55, 45.78s/it]"
     ]
    },
    {
     "name": "stdout",
     "output_type": "stream",
     "text": [
      "kakao done\n",
      "naver done\n"
     ]
    },
    {
     "name": "stderr",
     "output_type": "stream",
     "text": [
      "\r",
      "  2%|▏         | 41/2074 [27:58<23:47:22, 42.13s/it]"
     ]
    },
    {
     "name": "stdout",
     "output_type": "stream",
     "text": [
      "kakao done\n"
     ]
    },
    {
     "name": "stderr",
     "output_type": "stream",
     "text": [
      "\r",
      "  2%|▏         | 42/2074 [28:10<18:43:24, 33.17s/it]"
     ]
    },
    {
     "name": "stdout",
     "output_type": "stream",
     "text": [
      "kakao done\n",
      "naver done\n"
     ]
    },
    {
     "name": "stderr",
     "output_type": "stream",
     "text": [
      "\r",
      "  2%|▏         | 43/2074 [28:42<18:34:08, 32.91s/it]"
     ]
    },
    {
     "name": "stdout",
     "output_type": "stream",
     "text": [
      "kakao done\n",
      "naver done\n"
     ]
    },
    {
     "name": "stderr",
     "output_type": "stream",
     "text": [
      "\r",
      "  2%|▏         | 44/2074 [29:33<21:36:52, 38.33s/it]"
     ]
    },
    {
     "name": "stdout",
     "output_type": "stream",
     "text": [
      "kakao done\n",
      "Alert Text: 비공개 글 입니다.\n",
      "Message: unexpected alert open: {Alert text : 비공개 글 입니다.}\n",
      "  (Session info: chrome=108.0.5359.99)\n",
      "Stacktrace:\n",
      "Backtrace:\n",
      "\t(No symbol) [0x00EDF243]\n",
      "\t(No symbol) [0x00E67FD1]\n",
      "\t(No symbol) [0x00D5D04D]\n",
      "\t(No symbol) [0x00DBC836]\n",
      "\t(No symbol) [0x00DA8386]\n",
      "\t(No symbol) [0x00D8163C]\n",
      "\t(No symbol) [0x00D8269D]\n",
      "\tGetHandleVerifier [0x01179A22+2655074]\n",
      "\tGetHandleVerifier [0x0116CA24+2601828]\n",
      "\tGetHandleVerifier [0x00F88C0A+619850]\n",
      "\tGetHandleVerifier [0x00F87830+614768]\n",
      "\t(No symbol) [0x00E705FC]\n",
      "\t(No symbol) [0x00E75968]\n",
      "\t(No symbol) [0x00E75A55]\n",
      "\t(No symbol) [0x00E8051B]\n",
      "\tBaseThreadInitThunk [0x76736939+25]\n",
      "\tRtlGetFullPathName_UEx [0x77798FD2+1218]\n",
      "\tRtlGetFullPathName_UEx [0x77798F9D+1165]\n",
      "\n",
      "naver done\n"
     ]
    },
    {
     "name": "stderr",
     "output_type": "stream",
     "text": [
      "\r",
      "  2%|▏         | 45/2074 [30:06<20:36:55, 36.58s/it]"
     ]
    },
    {
     "name": "stdout",
     "output_type": "stream",
     "text": [
      "kakao done\n",
      "naver done\n"
     ]
    },
    {
     "name": "stderr",
     "output_type": "stream",
     "text": [
      "\r",
      "  2%|▏         | 46/2074 [30:57<23:08:48, 41.09s/it]"
     ]
    },
    {
     "name": "stdout",
     "output_type": "stream",
     "text": [
      "kakao done\n",
      "Alert Text: 비공개 글 입니다.\n",
      "Message: unexpected alert open: {Alert text : 비공개 글 입니다.}\n",
      "  (Session info: chrome=108.0.5359.99)\n",
      "Stacktrace:\n",
      "Backtrace:\n",
      "\t(No symbol) [0x00EDF243]\n",
      "\t(No symbol) [0x00E67FD1]\n",
      "\t(No symbol) [0x00D5D04D]\n",
      "\t(No symbol) [0x00DBC836]\n",
      "\t(No symbol) [0x00DA8386]\n",
      "\t(No symbol) [0x00D8163C]\n",
      "\t(No symbol) [0x00D8269D]\n",
      "\tGetHandleVerifier [0x01179A22+2655074]\n",
      "\tGetHandleVerifier [0x0116CA24+2601828]\n",
      "\tGetHandleVerifier [0x00F88C0A+619850]\n",
      "\tGetHandleVerifier [0x00F87830+614768]\n",
      "\t(No symbol) [0x00E705FC]\n",
      "\t(No symbol) [0x00E75968]\n",
      "\t(No symbol) [0x00E75A55]\n",
      "\t(No symbol) [0x00E8051B]\n",
      "\tBaseThreadInitThunk [0x76736939+25]\n",
      "\tRtlGetFullPathName_UEx [0x77798FD2+1218]\n",
      "\tRtlGetFullPathName_UEx [0x77798F9D+1165]\n",
      "\n",
      "naver done\n"
     ]
    },
    {
     "name": "stderr",
     "output_type": "stream",
     "text": [
      "\r",
      "  2%|▏         | 47/2074 [32:21<30:16:05, 53.76s/it]"
     ]
    },
    {
     "name": "stdout",
     "output_type": "stream",
     "text": [
      "kakao done\n"
     ]
    },
    {
     "name": "stderr",
     "output_type": "stream",
     "text": [
      "\r",
      "  2%|▏         | 48/2074 [32:34<23:30:38, 41.78s/it]"
     ]
    },
    {
     "name": "stdout",
     "output_type": "stream",
     "text": [
      "kakao done\n",
      "naver done\n"
     ]
    },
    {
     "name": "stderr",
     "output_type": "stream",
     "text": [
      "\r",
      "  2%|▏         | 49/2074 [33:12<22:47:37, 40.52s/it]"
     ]
    },
    {
     "name": "stdout",
     "output_type": "stream",
     "text": [
      "naver done\n"
     ]
    },
    {
     "name": "stderr",
     "output_type": "stream",
     "text": [
      "\r",
      "  2%|▏         | 50/2074 [33:55<23:12:44, 41.29s/it]"
     ]
    },
    {
     "name": "stdout",
     "output_type": "stream",
     "text": [
      "kakao done\n",
      "naver done\n"
     ]
    },
    {
     "name": "stderr",
     "output_type": "stream",
     "text": [
      "\r",
      "  2%|▏         | 51/2074 [34:39<23:41:23, 42.16s/it]"
     ]
    },
    {
     "name": "stdout",
     "output_type": "stream",
     "text": [
      "kakao done\n",
      "naver done\n"
     ]
    },
    {
     "name": "stderr",
     "output_type": "stream",
     "text": [
      "\r",
      "  3%|▎         | 52/2074 [35:01<20:12:44, 35.99s/it]"
     ]
    },
    {
     "name": "stdout",
     "output_type": "stream",
     "text": [
      "kakao done\n"
     ]
    },
    {
     "name": "stderr",
     "output_type": "stream",
     "text": [
      "\r",
      "  3%|▎         | 53/2074 [35:15<16:29:11, 29.37s/it]"
     ]
    },
    {
     "name": "stdout",
     "output_type": "stream",
     "text": [
      "time data '사장님픽' does not match format '%Y.%m.%d.'\n",
      "time data '사장님픽' does not match format '%Y.%m.%d.'\n",
      "time data '사장님픽' does not match format '%Y.%m.%d.'\n",
      "kakao done\n",
      "Alert Text: 게시물이 삭제되었거나 다른 페이지로 변경되었습니다.\n",
      "Message: unexpected alert open: {Alert text : 게시물이 삭제되었거나 다른 페이지로 변경되었습니다.}\n",
      "  (Session info: chrome=108.0.5359.99)\n",
      "Stacktrace:\n",
      "Backtrace:\n",
      "\t(No symbol) [0x00EDF243]\n",
      "\t(No symbol) [0x00E67FD1]\n",
      "\t(No symbol) [0x00D5D04D]\n",
      "\t(No symbol) [0x00DBC836]\n",
      "\t(No symbol) [0x00DA8386]\n",
      "\t(No symbol) [0x00D8163C]\n",
      "\t(No symbol) [0x00D8269D]\n",
      "\tGetHandleVerifier [0x01179A22+2655074]\n",
      "\tGetHandleVerifier [0x0116CA24+2601828]\n",
      "\tGetHandleVerifier [0x00F88C0A+619850]\n",
      "\tGetHandleVerifier [0x00F87830+614768]\n",
      "\t(No symbol) [0x00E705FC]\n",
      "\t(No symbol) [0x00E75968]\n",
      "\t(No symbol) [0x00E75A55]\n",
      "\t(No symbol) [0x00E8051B]\n",
      "\tBaseThreadInitThunk [0x76736939+25]\n",
      "\tRtlGetFullPathName_UEx [0x77798FD2+1218]\n",
      "\tRtlGetFullPathName_UEx [0x77798F9D+1165]\n",
      "\n",
      "naver done\n"
     ]
    },
    {
     "name": "stderr",
     "output_type": "stream",
     "text": [
      "\r",
      "  3%|▎         | 54/2074 [36:52<27:52:25, 49.68s/it]"
     ]
    },
    {
     "name": "stdout",
     "output_type": "stream",
     "text": [
      "kakao done\n",
      "naver done\n"
     ]
    },
    {
     "name": "stderr",
     "output_type": "stream",
     "text": [
      "\r",
      "  3%|▎         | 55/2074 [37:23<24:49:45, 44.27s/it]"
     ]
    },
    {
     "name": "stdout",
     "output_type": "stream",
     "text": [
      "kakao done\n",
      "naver done\n"
     ]
    },
    {
     "name": "stderr",
     "output_type": "stream",
     "text": [
      "\r",
      "  3%|▎         | 56/2074 [37:44<20:50:55, 37.19s/it]"
     ]
    },
    {
     "name": "stdout",
     "output_type": "stream",
     "text": [
      "kakao done\n",
      "naver done\n"
     ]
    },
    {
     "name": "stderr",
     "output_type": "stream",
     "text": [
      "\r",
      "  3%|▎         | 57/2074 [38:40<23:55:49, 42.71s/it]"
     ]
    },
    {
     "name": "stdout",
     "output_type": "stream",
     "text": [
      "kakao done\n"
     ]
    },
    {
     "name": "stderr",
     "output_type": "stream",
     "text": [
      "\r",
      "  3%|▎         | 58/2074 [39:04<20:48:17, 37.15s/it]"
     ]
    },
    {
     "name": "stdout",
     "output_type": "stream",
     "text": [
      "kakao done\n",
      "Alert Text: 비공개 글 입니다.\n",
      "Message: unexpected alert open: {Alert text : 비공개 글 입니다.}\n",
      "  (Session info: chrome=108.0.5359.99)\n",
      "Stacktrace:\n",
      "Backtrace:\n",
      "\t(No symbol) [0x00EDF243]\n",
      "\t(No symbol) [0x00E67FD1]\n",
      "\t(No symbol) [0x00D5D04D]\n",
      "\t(No symbol) [0x00DBC836]\n",
      "\t(No symbol) [0x00DA8386]\n",
      "\t(No symbol) [0x00D8163C]\n",
      "\t(No symbol) [0x00D8269D]\n",
      "\tGetHandleVerifier [0x01179A22+2655074]\n",
      "\tGetHandleVerifier [0x0116CA24+2601828]\n",
      "\tGetHandleVerifier [0x00F88C0A+619850]\n",
      "\tGetHandleVerifier [0x00F87830+614768]\n",
      "\t(No symbol) [0x00E705FC]\n",
      "\t(No symbol) [0x00E75968]\n",
      "\t(No symbol) [0x00E75A55]\n",
      "\t(No symbol) [0x00E8051B]\n",
      "\tBaseThreadInitThunk [0x76736939+25]\n",
      "\tRtlGetFullPathName_UEx [0x77798FD2+1218]\n",
      "\tRtlGetFullPathName_UEx [0x77798F9D+1165]\n",
      "\n",
      "naver done\n"
     ]
    },
    {
     "name": "stderr",
     "output_type": "stream",
     "text": [
      "\r",
      "  3%|▎         | 59/2074 [42:22<47:46:22, 85.35s/it]"
     ]
    },
    {
     "name": "stdout",
     "output_type": "stream",
     "text": [
      "kakao done\n",
      "naver done\n"
     ]
    },
    {
     "name": "stderr",
     "output_type": "stream",
     "text": [
      "\r",
      "  3%|▎         | 60/2074 [43:04<40:36:32, 72.59s/it]"
     ]
    },
    {
     "name": "stdout",
     "output_type": "stream",
     "text": [
      "kakao done\n"
     ]
    },
    {
     "name": "stderr",
     "output_type": "stream",
     "text": [
      "\r",
      "  3%|▎         | 61/2074 [43:29<32:30:58, 58.15s/it]"
     ]
    },
    {
     "name": "stdout",
     "output_type": "stream",
     "text": [
      "kakao done\n",
      "naver done\n"
     ]
    },
    {
     "name": "stderr",
     "output_type": "stream",
     "text": [
      "\r",
      "  3%|▎         | 62/2074 [44:02<28:19:11, 50.67s/it]"
     ]
    },
    {
     "name": "stdout",
     "output_type": "stream",
     "text": [
      "kakao done\n",
      "naver done\n"
     ]
    },
    {
     "name": "stderr",
     "output_type": "stream",
     "text": [
      "\r",
      "  3%|▎         | 63/2074 [45:28<34:11:32, 61.21s/it]"
     ]
    },
    {
     "name": "stdout",
     "output_type": "stream",
     "text": [
      "kakao done\n",
      "Alert Text: 게시물이 삭제되었거나 다른 페이지로 변경되었습니다.\n",
      "Message: unexpected alert open: {Alert text : 게시물이 삭제되었거나 다른 페이지로 변경되었습니다.}\n",
      "  (Session info: chrome=108.0.5359.99)\n",
      "Stacktrace:\n",
      "Backtrace:\n",
      "\t(No symbol) [0x00EDF243]\n",
      "\t(No symbol) [0x00E67FD1]\n",
      "\t(No symbol) [0x00D5D04D]\n",
      "\t(No symbol) [0x00DBC836]\n",
      "\t(No symbol) [0x00DA8386]\n",
      "\t(No symbol) [0x00D8163C]\n",
      "\t(No symbol) [0x00D8269D]\n",
      "\tGetHandleVerifier [0x01179A22+2655074]\n",
      "\tGetHandleVerifier [0x0116CA24+2601828]\n",
      "\tGetHandleVerifier [0x00F88C0A+619850]\n",
      "\tGetHandleVerifier [0x00F87830+614768]\n",
      "\t(No symbol) [0x00E705FC]\n",
      "\t(No symbol) [0x00E75968]\n",
      "\t(No symbol) [0x00E75A55]\n",
      "\t(No symbol) [0x00E8051B]\n",
      "\tBaseThreadInitThunk [0x76736939+25]\n",
      "\tRtlGetFullPathName_UEx [0x77798FD2+1218]\n",
      "\tRtlGetFullPathName_UEx [0x77798F9D+1165]\n",
      "\n",
      "Alert Text: 비공개 글 입니다.\n",
      "Message: unexpected alert open: {Alert text : 비공개 글 입니다.}\n",
      "  (Session info: chrome=108.0.5359.99)\n",
      "Stacktrace:\n",
      "Backtrace:\n",
      "\t(No symbol) [0x00EDF243]\n",
      "\t(No symbol) [0x00E67FD1]\n",
      "\t(No symbol) [0x00D5D04D]\n",
      "\t(No symbol) [0x00DBC836]\n",
      "\t(No symbol) [0x00DA8386]\n",
      "\t(No symbol) [0x00D8163C]\n",
      "\t(No symbol) [0x00D8269D]\n",
      "\tGetHandleVerifier [0x01179A22+2655074]\n",
      "\tGetHandleVerifier [0x0116CA24+2601828]\n",
      "\tGetHandleVerifier [0x00F88C0A+619850]\n",
      "\tGetHandleVerifier [0x00F87830+614768]\n",
      "\t(No symbol) [0x00E705FC]\n",
      "\t(No symbol) [0x00E75968]\n",
      "\t(No symbol) [0x00E75A55]\n",
      "\t(No symbol) [0x00E8051B]\n",
      "\tBaseThreadInitThunk [0x76736939+25]\n",
      "\tRtlGetFullPathName_UEx [0x77798FD2+1218]\n",
      "\tRtlGetFullPathName_UEx [0x77798F9D+1165]\n",
      "\n",
      "Alert Text: 게시물이 삭제되었거나 다른 페이지로 변경되었습니다.\n",
      "Message: unexpected alert open: {Alert text : 게시물이 삭제되었거나 다른 페이지로 변경되었습니다.}\n",
      "  (Session info: chrome=108.0.5359.99)\n",
      "Stacktrace:\n",
      "Backtrace:\n",
      "\t(No symbol) [0x00EDF243]\n",
      "\t(No symbol) [0x00E67FD1]\n",
      "\t(No symbol) [0x00D5D04D]\n",
      "\t(No symbol) [0x00DBC836]\n",
      "\t(No symbol) [0x00DA8386]\n",
      "\t(No symbol) [0x00D8163C]\n",
      "\t(No symbol) [0x00D8269D]\n",
      "\tGetHandleVerifier [0x01179A22+2655074]\n",
      "\tGetHandleVerifier [0x0116CA24+2601828]\n",
      "\tGetHandleVerifier [0x00F88C0A+619850]\n",
      "\tGetHandleVerifier [0x00F87830+614768]\n",
      "\t(No symbol) [0x00E705FC]\n",
      "\t(No symbol) [0x00E75968]\n",
      "\t(No symbol) [0x00E75A55]\n",
      "\t(No symbol) [0x00E8051B]\n",
      "\tBaseThreadInitThunk [0x76736939+25]\n",
      "\tRtlGetFullPathName_UEx [0x77798FD2+1218]\n",
      "\tRtlGetFullPathName_UEx [0x77798F9D+1165]\n",
      "\n",
      "naver done\n"
     ]
    },
    {
     "name": "stderr",
     "output_type": "stream",
     "text": [
      "\r",
      "  3%|▎         | 64/2074 [47:06<40:20:04, 72.24s/it]"
     ]
    },
    {
     "name": "stdout",
     "output_type": "stream",
     "text": [
      "kakao done\n",
      "naver done\n"
     ]
    },
    {
     "name": "stderr",
     "output_type": "stream",
     "text": [
      "\r",
      "  3%|▎         | 65/2074 [47:41<34:01:34, 60.97s/it]"
     ]
    },
    {
     "name": "stdout",
     "output_type": "stream",
     "text": [
      "kakao done\n",
      "naver done\n"
     ]
    },
    {
     "name": "stderr",
     "output_type": "stream",
     "text": [
      "\r",
      "  3%|▎         | 66/2074 [47:59<26:48:25, 48.06s/it]"
     ]
    },
    {
     "name": "stdout",
     "output_type": "stream",
     "text": [
      "kakao done\n",
      "naver done\n"
     ]
    },
    {
     "name": "stderr",
     "output_type": "stream",
     "text": [
      "\r",
      "  3%|▎         | 67/2074 [48:40<25:43:09, 46.13s/it]"
     ]
    },
    {
     "name": "stdout",
     "output_type": "stream",
     "text": [
      "kakao done\n",
      "naver done\n"
     ]
    },
    {
     "name": "stderr",
     "output_type": "stream",
     "text": [
      "\r",
      "  3%|▎         | 68/2074 [49:26<25:38:56, 46.03s/it]"
     ]
    },
    {
     "name": "stdout",
     "output_type": "stream",
     "text": [
      "kakao done\n",
      "naver done\n"
     ]
    },
    {
     "name": "stderr",
     "output_type": "stream",
     "text": [
      "\r",
      "  3%|▎         | 69/2074 [49:52<22:15:54, 39.98s/it]"
     ]
    },
    {
     "name": "stdout",
     "output_type": "stream",
     "text": [
      "naver done\n"
     ]
    },
    {
     "name": "stderr",
     "output_type": "stream",
     "text": [
      "\r",
      "  3%|▎         | 70/2074 [50:34<22:39:02, 40.69s/it]"
     ]
    },
    {
     "name": "stdout",
     "output_type": "stream",
     "text": [
      "kakao done\n",
      "naver done\n"
     ]
    },
    {
     "name": "stderr",
     "output_type": "stream",
     "text": [
      "\r",
      "  3%|▎         | 71/2074 [51:11<22:00:38, 39.56s/it]"
     ]
    },
    {
     "name": "stdout",
     "output_type": "stream",
     "text": [
      "kakao done\n",
      "naver done\n"
     ]
    },
    {
     "name": "stderr",
     "output_type": "stream",
     "text": [
      "\r",
      "  3%|▎         | 72/2074 [51:54<22:35:03, 40.61s/it]"
     ]
    },
    {
     "name": "stdout",
     "output_type": "stream",
     "text": [
      "naver done\n"
     ]
    },
    {
     "name": "stderr",
     "output_type": "stream",
     "text": [
      "\r",
      "  4%|▎         | 73/2074 [52:46<24:25:51, 43.95s/it]"
     ]
    },
    {
     "name": "stdout",
     "output_type": "stream",
     "text": [
      "kakao done\n",
      "naver done\n"
     ]
    },
    {
     "name": "stderr",
     "output_type": "stream",
     "text": [
      "  4%|▎         | 76/2074 [53:51<15:14:10, 27.45s/it]"
     ]
    },
    {
     "name": "stdout",
     "output_type": "stream",
     "text": [
      "kakao done\n",
      "naver done\n"
     ]
    },
    {
     "name": "stderr",
     "output_type": "stream",
     "text": [
      "  4%|▍         | 78/2074 [55:02<16:46:17, 30.25s/it]"
     ]
    },
    {
     "name": "stdout",
     "output_type": "stream",
     "text": [
      "naver done\n"
     ]
    },
    {
     "name": "stderr",
     "output_type": "stream",
     "text": [
      "  4%|▍         | 80/2074 [56:13<17:34:42, 31.74s/it]"
     ]
    },
    {
     "name": "stdout",
     "output_type": "stream",
     "text": [
      "kakao done\n",
      "naver done\n"
     ]
    },
    {
     "name": "stderr",
     "output_type": "stream",
     "text": [
      "\r",
      "  4%|▍         | 81/2074 [56:54<19:08:27, 34.57s/it]"
     ]
    },
    {
     "name": "stdout",
     "output_type": "stream",
     "text": [
      "kakao done\n",
      "naver done\n"
     ]
    },
    {
     "name": "stderr",
     "output_type": "stream",
     "text": [
      "\r",
      "  4%|▍         | 82/2074 [57:48<22:16:05, 40.24s/it]"
     ]
    },
    {
     "name": "stdout",
     "output_type": "stream",
     "text": [
      "kakao done\n",
      "naver done\n"
     ]
    },
    {
     "name": "stderr",
     "output_type": "stream",
     "text": [
      "\r",
      "  4%|▍         | 83/2074 [58:24<21:31:28, 38.92s/it]"
     ]
    },
    {
     "name": "stdout",
     "output_type": "stream",
     "text": [
      "kakao done\n",
      "Alert Text: 게시물이 삭제되었거나 다른 페이지로 변경되었습니다.\n",
      "Message: unexpected alert open: {Alert text : 게시물이 삭제되었거나 다른 페이지로 변경되었습니다.}\n",
      "  (Session info: chrome=108.0.5359.99)\n",
      "Stacktrace:\n",
      "Backtrace:\n",
      "\t(No symbol) [0x00EDF243]\n",
      "\t(No symbol) [0x00E67FD1]\n",
      "\t(No symbol) [0x00D5D04D]\n",
      "\t(No symbol) [0x00DBC836]\n",
      "\t(No symbol) [0x00DA8386]\n",
      "\t(No symbol) [0x00D8163C]\n",
      "\t(No symbol) [0x00D8269D]\n",
      "\tGetHandleVerifier [0x01179A22+2655074]\n",
      "\tGetHandleVerifier [0x0116CA24+2601828]\n",
      "\tGetHandleVerifier [0x00F88C0A+619850]\n",
      "\tGetHandleVerifier [0x00F87830+614768]\n",
      "\t(No symbol) [0x00E705FC]\n",
      "\t(No symbol) [0x00E75968]\n",
      "\t(No symbol) [0x00E75A55]\n",
      "\t(No symbol) [0x00E8051B]\n",
      "\tBaseThreadInitThunk [0x76736939+25]\n",
      "\tRtlGetFullPathName_UEx [0x77798FD2+1218]\n",
      "\tRtlGetFullPathName_UEx [0x77798F9D+1165]\n",
      "\n",
      "naver done\n"
     ]
    },
    {
     "name": "stderr",
     "output_type": "stream",
     "text": [
      "\r",
      "  4%|▍         | 84/2074 [59:07<22:19:37, 40.39s/it]"
     ]
    },
    {
     "name": "stdout",
     "output_type": "stream",
     "text": [
      "kakao done\n",
      "naver done\n"
     ]
    },
    {
     "name": "stderr",
     "output_type": "stream",
     "text": [
      "\r",
      "  4%|▍         | 85/2074 [59:28<19:00:43, 34.41s/it]"
     ]
    },
    {
     "name": "stdout",
     "output_type": "stream",
     "text": [
      "kakao done\n",
      "naver done\n"
     ]
    },
    {
     "name": "stderr",
     "output_type": "stream",
     "text": [
      "  4%|▍         | 87/2074 [1:00:36<18:21:17, 33.26s/it]"
     ]
    },
    {
     "name": "stdout",
     "output_type": "stream",
     "text": [
      "kakao done\n",
      "naver done\n"
     ]
    },
    {
     "name": "stderr",
     "output_type": "stream",
     "text": [
      "\r",
      "  4%|▍         | 88/2074 [1:01:33<22:17:50, 40.42s/it]"
     ]
    },
    {
     "name": "stdout",
     "output_type": "stream",
     "text": [
      "kakao done\n",
      "naver done\n"
     ]
    },
    {
     "name": "stderr",
     "output_type": "stream",
     "text": [
      "\r",
      "  4%|▍         | 89/2074 [1:02:21<23:32:12, 42.69s/it]"
     ]
    },
    {
     "name": "stdout",
     "output_type": "stream",
     "text": [
      "kakao done\n",
      "naver done\n"
     ]
    },
    {
     "name": "stderr",
     "output_type": "stream",
     "text": [
      "\r",
      "  4%|▍         | 90/2074 [1:02:45<20:25:27, 37.06s/it]"
     ]
    },
    {
     "name": "stdout",
     "output_type": "stream",
     "text": [
      "kakao done\n",
      "naver done\n"
     ]
    },
    {
     "name": "stderr",
     "output_type": "stream",
     "text": [
      "\r",
      "  4%|▍         | 91/2074 [1:03:30<21:39:24, 39.32s/it]"
     ]
    },
    {
     "name": "stdout",
     "output_type": "stream",
     "text": [
      "naver done\n"
     ]
    },
    {
     "name": "stderr",
     "output_type": "stream",
     "text": [
      "\r",
      "  4%|▍         | 92/2074 [1:04:15<22:36:45, 41.07s/it]"
     ]
    },
    {
     "name": "stdout",
     "output_type": "stream",
     "text": [
      "kakao done\n",
      "naver done\n"
     ]
    },
    {
     "name": "stderr",
     "output_type": "stream",
     "text": [
      "\r",
      "  5%|▍         | 94/2074 [1:04:47<16:17:02, 29.61s/it]"
     ]
    },
    {
     "name": "stdout",
     "output_type": "stream",
     "text": [
      "kakao done\n",
      "naver done\n"
     ]
    },
    {
     "name": "stderr",
     "output_type": "stream",
     "text": [
      "\r",
      "  5%|▍         | 95/2074 [1:05:23<17:05:56, 31.10s/it]"
     ]
    },
    {
     "name": "stdout",
     "output_type": "stream",
     "text": [
      "kakao done\n",
      "naver done\n"
     ]
    },
    {
     "name": "stderr",
     "output_type": "stream",
     "text": [
      "\r",
      "  5%|▍         | 96/2074 [1:05:58<17:38:03, 32.09s/it]"
     ]
    },
    {
     "name": "stdout",
     "output_type": "stream",
     "text": [
      "kakao done\n",
      "Alert Text: 비공개 글 입니다.\n",
      "Message: unexpected alert open: {Alert text : 비공개 글 입니다.}\n",
      "  (Session info: chrome=108.0.5359.99)\n",
      "Stacktrace:\n",
      "Backtrace:\n",
      "\t(No symbol) [0x00EDF243]\n",
      "\t(No symbol) [0x00E67FD1]\n",
      "\t(No symbol) [0x00D5D04D]\n",
      "\t(No symbol) [0x00DBC836]\n",
      "\t(No symbol) [0x00DA8386]\n",
      "\t(No symbol) [0x00D8163C]\n",
      "\t(No symbol) [0x00D8269D]\n",
      "\tGetHandleVerifier [0x01179A22+2655074]\n",
      "\tGetHandleVerifier [0x0116CA24+2601828]\n",
      "\tGetHandleVerifier [0x00F88C0A+619850]\n",
      "\tGetHandleVerifier [0x00F87830+614768]\n",
      "\t(No symbol) [0x00E705FC]\n",
      "\t(No symbol) [0x00E75968]\n",
      "\t(No symbol) [0x00E75A55]\n",
      "\t(No symbol) [0x00E8051B]\n",
      "\tBaseThreadInitThunk [0x76736939+25]\n",
      "\tRtlGetFullPathName_UEx [0x77798FD2+1218]\n",
      "\tRtlGetFullPathName_UEx [0x77798F9D+1165]\n",
      "\n",
      "naver done\n"
     ]
    },
    {
     "name": "stderr",
     "output_type": "stream",
     "text": [
      "  5%|▍         | 100/2074 [1:07:48<14:46:30, 26.95s/it]"
     ]
    },
    {
     "name": "stdout",
     "output_type": "stream",
     "text": [
      "naver done\n"
     ]
    },
    {
     "name": "stderr",
     "output_type": "stream",
     "text": [
      "\r",
      "  5%|▍         | 101/2074 [1:09:13<23:57:25, 43.71s/it]"
     ]
    },
    {
     "name": "stdout",
     "output_type": "stream",
     "text": [
      "kakao done\n"
     ]
    },
    {
     "name": "stderr",
     "output_type": "stream",
     "text": [
      "\r",
      "  5%|▍         | 102/2074 [1:09:33<20:11:53, 36.87s/it]"
     ]
    },
    {
     "name": "stdout",
     "output_type": "stream",
     "text": [
      "kakao done\n",
      "naver done\n"
     ]
    },
    {
     "name": "stderr",
     "output_type": "stream",
     "text": [
      "\r",
      "  5%|▍         | 103/2074 [1:10:25<22:35:17, 41.26s/it]"
     ]
    },
    {
     "name": "stdout",
     "output_type": "stream",
     "text": [
      "kakao done\n",
      "Alert Text: 게시물이 삭제되었거나 다른 페이지로 변경되었습니다.\n",
      "Message: unexpected alert open: {Alert text : 게시물이 삭제되었거나 다른 페이지로 변경되었습니다.}\n",
      "  (Session info: chrome=108.0.5359.99)\n",
      "Stacktrace:\n",
      "Backtrace:\n",
      "\t(No symbol) [0x00EDF243]\n",
      "\t(No symbol) [0x00E67FD1]\n",
      "\t(No symbol) [0x00D5D04D]\n",
      "\t(No symbol) [0x00DBC836]\n",
      "\t(No symbol) [0x00DA8386]\n",
      "\t(No symbol) [0x00D8163C]\n",
      "\t(No symbol) [0x00D8269D]\n",
      "\tGetHandleVerifier [0x01179A22+2655074]\n",
      "\tGetHandleVerifier [0x0116CA24+2601828]\n",
      "\tGetHandleVerifier [0x00F88C0A+619850]\n",
      "\tGetHandleVerifier [0x00F87830+614768]\n",
      "\t(No symbol) [0x00E705FC]\n",
      "\t(No symbol) [0x00E75968]\n",
      "\t(No symbol) [0x00E75A55]\n",
      "\t(No symbol) [0x00E8051B]\n",
      "\tBaseThreadInitThunk [0x76736939+25]\n",
      "\tRtlGetFullPathName_UEx [0x77798FD2+1218]\n",
      "\tRtlGetFullPathName_UEx [0x77798F9D+1165]\n",
      "\n",
      "naver done\n"
     ]
    },
    {
     "name": "stderr",
     "output_type": "stream",
     "text": [
      "\r",
      "  5%|▌         | 104/2074 [1:17:01<80:21:09, 146.84s/it]"
     ]
    },
    {
     "name": "stdout",
     "output_type": "stream",
     "text": [
      "kakao done\n"
     ]
    },
    {
     "name": "stderr",
     "output_type": "stream",
     "text": [
      "\r",
      "  5%|▌         | 105/2074 [1:17:24<60:10:51, 110.03s/it]"
     ]
    },
    {
     "name": "stdout",
     "output_type": "stream",
     "text": [
      "kakao done\n",
      "naver done\n"
     ]
    },
    {
     "name": "stderr",
     "output_type": "stream",
     "text": [
      "\r",
      "  5%|▌         | 106/2074 [1:18:02<48:18:53, 88.38s/it] "
     ]
    },
    {
     "name": "stdout",
     "output_type": "stream",
     "text": [
      "kakao done\n"
     ]
    },
    {
     "name": "stderr",
     "output_type": "stream",
     "text": [
      "\r",
      "  5%|▌         | 107/2074 [1:18:10<35:12:43, 64.45s/it]"
     ]
    },
    {
     "name": "stdout",
     "output_type": "stream",
     "text": [
      "kakao done\n",
      "naver done\n"
     ]
    },
    {
     "name": "stderr",
     "output_type": "stream",
     "text": [
      "\r",
      "  5%|▌         | 108/2074 [1:18:56<32:03:16, 58.70s/it]"
     ]
    },
    {
     "name": "stdout",
     "output_type": "stream",
     "text": [
      "kakao done\n",
      "Alert Text: 비공개 글 입니다.\n",
      "Message: unexpected alert open: {Alert text : 비공개 글 입니다.}\n",
      "  (Session info: chrome=108.0.5359.99)\n",
      "Stacktrace:\n",
      "Backtrace:\n",
      "\t(No symbol) [0x00EDF243]\n",
      "\t(No symbol) [0x00E67FD1]\n",
      "\t(No symbol) [0x00D5D04D]\n",
      "\t(No symbol) [0x00DBC836]\n",
      "\t(No symbol) [0x00DA8386]\n",
      "\t(No symbol) [0x00D8163C]\n",
      "\t(No symbol) [0x00D8269D]\n",
      "\tGetHandleVerifier [0x01179A22+2655074]\n",
      "\tGetHandleVerifier [0x0116CA24+2601828]\n",
      "\tGetHandleVerifier [0x00F88C0A+619850]\n",
      "\tGetHandleVerifier [0x00F87830+614768]\n",
      "\t(No symbol) [0x00E705FC]\n",
      "\t(No symbol) [0x00E75968]\n",
      "\t(No symbol) [0x00E75A55]\n",
      "\t(No symbol) [0x00E8051B]\n",
      "\tBaseThreadInitThunk [0x76736939+25]\n",
      "\tRtlGetFullPathName_UEx [0x77798FD2+1218]\n",
      "\tRtlGetFullPathName_UEx [0x77798F9D+1165]\n",
      "\n",
      "Alert Text: 비공개 글 입니다.\n",
      "Message: unexpected alert open: {Alert text : 비공개 글 입니다.}\n",
      "  (Session info: chrome=108.0.5359.99)\n",
      "Stacktrace:\n",
      "Backtrace:\n",
      "\t(No symbol) [0x00EDF243]\n",
      "\t(No symbol) [0x00E67FD1]\n",
      "\t(No symbol) [0x00D5D04D]\n",
      "\t(No symbol) [0x00DBC836]\n",
      "\t(No symbol) [0x00DA8386]\n",
      "\t(No symbol) [0x00D8163C]\n",
      "\t(No symbol) [0x00D8269D]\n",
      "\tGetHandleVerifier [0x01179A22+2655074]\n",
      "\tGetHandleVerifier [0x0116CA24+2601828]\n",
      "\tGetHandleVerifier [0x00F88C0A+619850]\n",
      "\tGetHandleVerifier [0x00F87830+614768]\n",
      "\t(No symbol) [0x00E705FC]\n",
      "\t(No symbol) [0x00E75968]\n",
      "\t(No symbol) [0x00E75A55]\n",
      "\t(No symbol) [0x00E8051B]\n",
      "\tBaseThreadInitThunk [0x76736939+25]\n",
      "\tRtlGetFullPathName_UEx [0x77798FD2+1218]\n",
      "\tRtlGetFullPathName_UEx [0x77798F9D+1165]\n",
      "\n",
      "Alert Text: 비공개 글 입니다.\n",
      "Message: unexpected alert open: {Alert text : 비공개 글 입니다.}\n",
      "  (Session info: chrome=108.0.5359.99)\n",
      "Stacktrace:\n",
      "Backtrace:\n",
      "\t(No symbol) [0x00EDF243]\n",
      "\t(No symbol) [0x00E67FD1]\n",
      "\t(No symbol) [0x00D5D04D]\n",
      "\t(No symbol) [0x00DBC836]\n",
      "\t(No symbol) [0x00DA8386]\n",
      "\t(No symbol) [0x00D8163C]\n",
      "\t(No symbol) [0x00D8269D]\n",
      "\tGetHandleVerifier [0x01179A22+2655074]\n",
      "\tGetHandleVerifier [0x0116CA24+2601828]\n",
      "\tGetHandleVerifier [0x00F88C0A+619850]\n",
      "\tGetHandleVerifier [0x00F87830+614768]\n",
      "\t(No symbol) [0x00E705FC]\n",
      "\t(No symbol) [0x00E75968]\n",
      "\t(No symbol) [0x00E75A55]\n",
      "\t(No symbol) [0x00E8051B]\n",
      "\tBaseThreadInitThunk [0x76736939+25]\n",
      "\tRtlGetFullPathName_UEx [0x77798FD2+1218]\n",
      "\tRtlGetFullPathName_UEx [0x77798F9D+1165]\n",
      "\n",
      "naver done\n"
     ]
    },
    {
     "name": "stderr",
     "output_type": "stream",
     "text": [
      "  5%|▌         | 112/2074 [1:25:25<33:34:13, 61.60s/it] "
     ]
    },
    {
     "name": "stdout",
     "output_type": "stream",
     "text": [
      "kakao done\n",
      "naver done\n"
     ]
    },
    {
     "name": "stderr",
     "output_type": "stream",
     "text": [
      "\r",
      "  5%|▌         | 113/2074 [1:26:29<33:56:22, 62.31s/it]"
     ]
    },
    {
     "name": "stdout",
     "output_type": "stream",
     "text": [
      "kakao done\n",
      "naver done\n"
     ]
    },
    {
     "name": "stderr",
     "output_type": "stream",
     "text": [
      "  6%|▌         | 115/2074 [1:27:44<27:55:29, 51.32s/it]"
     ]
    },
    {
     "name": "stdout",
     "output_type": "stream",
     "text": [
      "kakao done\n",
      "naver done\n"
     ]
    },
    {
     "name": "stderr",
     "output_type": "stream",
     "text": [
      "\r",
      "  6%|▌         | 116/2074 [1:28:13<24:14:34, 44.57s/it]"
     ]
    },
    {
     "name": "stdout",
     "output_type": "stream",
     "text": [
      "kakao done\n"
     ]
    },
    {
     "name": "stderr",
     "output_type": "stream",
     "text": [
      "  6%|▌         | 118/2074 [1:28:52<16:59:30, 31.27s/it]"
     ]
    },
    {
     "name": "stdout",
     "output_type": "stream",
     "text": [
      "kakao done\n",
      "naver done\n"
     ]
    },
    {
     "name": "stderr",
     "output_type": "stream",
     "text": [
      "\r",
      "  6%|▌         | 119/2074 [1:29:34<18:45:52, 34.55s/it]"
     ]
    },
    {
     "name": "stdout",
     "output_type": "stream",
     "text": [
      "kakao done\n"
     ]
    },
    {
     "name": "stderr",
     "output_type": "stream",
     "text": [
      "\r",
      "  6%|▌         | 120/2074 [1:30:00<17:20:21, 31.95s/it]"
     ]
    },
    {
     "name": "stdout",
     "output_type": "stream",
     "text": [
      "kakao done\n",
      "naver done\n"
     ]
    },
    {
     "name": "stderr",
     "output_type": "stream",
     "text": [
      "\r",
      "  6%|▌         | 121/2074 [1:30:20<15:26:35, 28.47s/it]"
     ]
    },
    {
     "name": "stdout",
     "output_type": "stream",
     "text": [
      "kakao done\n",
      "naver done\n"
     ]
    },
    {
     "name": "stderr",
     "output_type": "stream",
     "text": [
      "  6%|▌         | 124/2074 [1:31:24<12:55:03, 23.85s/it]"
     ]
    },
    {
     "name": "stdout",
     "output_type": "stream",
     "text": [
      "kakao done\n"
     ]
    },
    {
     "name": "stderr",
     "output_type": "stream",
     "text": [
      "\r",
      "  6%|▌         | 125/2074 [1:31:39<11:25:12, 21.09s/it]"
     ]
    },
    {
     "name": "stdout",
     "output_type": "stream",
     "text": [
      "kakao done\n",
      "naver done\n"
     ]
    },
    {
     "name": "stderr",
     "output_type": "stream",
     "text": [
      "  6%|▌         | 127/2074 [1:33:18<17:50:48, 33.00s/it]"
     ]
    },
    {
     "name": "stdout",
     "output_type": "stream",
     "text": [
      "kakao done\n",
      "naver done\n"
     ]
    },
    {
     "name": "stderr",
     "output_type": "stream",
     "text": [
      "\r",
      "  6%|▌         | 128/2074 [1:34:16<21:54:46, 40.54s/it]"
     ]
    },
    {
     "name": "stdout",
     "output_type": "stream",
     "text": [
      "kakao done\n",
      "naver done\n"
     ]
    },
    {
     "name": "stderr",
     "output_type": "stream",
     "text": [
      "\r",
      "  6%|▌         | 129/2074 [1:34:33<18:07:32, 33.55s/it]"
     ]
    },
    {
     "name": "stdout",
     "output_type": "stream",
     "text": [
      "kakao done\n",
      "naver done\n"
     ]
    },
    {
     "name": "stderr",
     "output_type": "stream",
     "text": [
      "\r",
      "  6%|▋         | 130/2074 [1:35:19<20:08:37, 37.30s/it]"
     ]
    },
    {
     "name": "stdout",
     "output_type": "stream",
     "text": [
      "kakao done\n"
     ]
    },
    {
     "name": "stderr",
     "output_type": "stream",
     "text": [
      "\r",
      "  6%|▋         | 131/2074 [1:36:08<21:58:29, 40.72s/it]"
     ]
    },
    {
     "name": "stdout",
     "output_type": "stream",
     "text": [
      "kakao done\n",
      "naver done\n"
     ]
    },
    {
     "name": "stderr",
     "output_type": "stream",
     "text": [
      "\r",
      "  6%|▋         | 132/2074 [1:36:52<22:28:08, 41.65s/it]"
     ]
    },
    {
     "name": "stdout",
     "output_type": "stream",
     "text": [
      "naver done\n"
     ]
    },
    {
     "name": "stderr",
     "output_type": "stream",
     "text": [
      "\r",
      "  6%|▋         | 133/2074 [1:37:30<21:48:51, 40.46s/it]"
     ]
    },
    {
     "name": "stdout",
     "output_type": "stream",
     "text": [
      "kakao done\n",
      "naver done\n"
     ]
    },
    {
     "name": "stderr",
     "output_type": "stream",
     "text": [
      "\r",
      "  6%|▋         | 134/2074 [1:38:16<22:48:47, 42.33s/it]"
     ]
    },
    {
     "name": "stdout",
     "output_type": "stream",
     "text": [
      "kakao done\n",
      "naver done\n"
     ]
    },
    {
     "name": "stderr",
     "output_type": "stream",
     "text": [
      "\r",
      "  7%|▋         | 135/2074 [1:39:07<24:11:13, 44.91s/it]"
     ]
    },
    {
     "name": "stdout",
     "output_type": "stream",
     "text": [
      "time data '사장님픽' does not match format '%Y.%m.%d.'\n",
      "time data '사장님픽' does not match format '%Y.%m.%d.'\n",
      "kakao done\n",
      "naver done\n"
     ]
    },
    {
     "name": "stderr",
     "output_type": "stream",
     "text": [
      "\r",
      "  7%|▋         | 136/2074 [1:39:34<21:11:14, 39.36s/it]"
     ]
    },
    {
     "name": "stdout",
     "output_type": "stream",
     "text": [
      "kakao done\n",
      "Alert Text: 비공개 글 입니다.\n",
      "Message: unexpected alert open: {Alert text : 비공개 글 입니다.}\n",
      "  (Session info: chrome=108.0.5359.99)\n",
      "Stacktrace:\n",
      "Backtrace:\n",
      "\t(No symbol) [0x00EDF243]\n",
      "\t(No symbol) [0x00E67FD1]\n",
      "\t(No symbol) [0x00D5D04D]\n",
      "\t(No symbol) [0x00DBC836]\n",
      "\t(No symbol) [0x00DA8386]\n",
      "\t(No symbol) [0x00D8163C]\n",
      "\t(No symbol) [0x00D8269D]\n",
      "\tGetHandleVerifier [0x01179A22+2655074]\n",
      "\tGetHandleVerifier [0x0116CA24+2601828]\n",
      "\tGetHandleVerifier [0x00F88C0A+619850]\n",
      "\tGetHandleVerifier [0x00F87830+614768]\n",
      "\t(No symbol) [0x00E705FC]\n",
      "\t(No symbol) [0x00E75968]\n",
      "\t(No symbol) [0x00E75A55]\n",
      "\t(No symbol) [0x00E8051B]\n",
      "\tBaseThreadInitThunk [0x76736939+25]\n",
      "\tRtlGetFullPathName_UEx [0x77798FD2+1218]\n",
      "\tRtlGetFullPathName_UEx [0x77798F9D+1165]\n",
      "\n",
      "naver done\n"
     ]
    },
    {
     "name": "stderr",
     "output_type": "stream",
     "text": [
      "  7%|▋         | 138/2074 [1:40:26<17:20:14, 32.24s/it]"
     ]
    },
    {
     "name": "stdout",
     "output_type": "stream",
     "text": [
      "naver done\n"
     ]
    },
    {
     "name": "stderr",
     "output_type": "stream",
     "text": [
      "\r",
      "  7%|▋         | 139/2074 [1:41:20<20:53:47, 38.88s/it]"
     ]
    },
    {
     "name": "stdout",
     "output_type": "stream",
     "text": [
      "kakao done\n",
      "naver done\n"
     ]
    },
    {
     "name": "stderr",
     "output_type": "stream",
     "text": [
      "\r",
      "  7%|▋         | 140/2074 [1:41:50<19:31:38, 36.35s/it]"
     ]
    },
    {
     "name": "stdout",
     "output_type": "stream",
     "text": [
      "kakao done\n",
      "Alert Text: 게시물이 삭제되었거나 다른 페이지로 변경되었습니다.\n",
      "Message: unexpected alert open: {Alert text : 게시물이 삭제되었거나 다른 페이지로 변경되었습니다.}\n",
      "  (Session info: chrome=108.0.5359.99)\n",
      "Stacktrace:\n",
      "Backtrace:\n",
      "\t(No symbol) [0x00EDF243]\n",
      "\t(No symbol) [0x00E67FD1]\n",
      "\t(No symbol) [0x00D5D04D]\n",
      "\t(No symbol) [0x00DBC836]\n",
      "\t(No symbol) [0x00DA8386]\n",
      "\t(No symbol) [0x00D8163C]\n",
      "\t(No symbol) [0x00D8269D]\n",
      "\tGetHandleVerifier [0x01179A22+2655074]\n",
      "\tGetHandleVerifier [0x0116CA24+2601828]\n",
      "\tGetHandleVerifier [0x00F88C0A+619850]\n",
      "\tGetHandleVerifier [0x00F87830+614768]\n",
      "\t(No symbol) [0x00E705FC]\n",
      "\t(No symbol) [0x00E75968]\n",
      "\t(No symbol) [0x00E75A55]\n",
      "\t(No symbol) [0x00E8051B]\n",
      "\tBaseThreadInitThunk [0x76736939+25]\n",
      "\tRtlGetFullPathName_UEx [0x77798FD2+1218]\n",
      "\tRtlGetFullPathName_UEx [0x77798F9D+1165]\n",
      "\n",
      "naver done\n"
     ]
    },
    {
     "name": "stderr",
     "output_type": "stream",
     "text": [
      "\r",
      "  7%|▋         | 141/2074 [1:43:02<25:13:29, 46.98s/it]"
     ]
    },
    {
     "name": "stdout",
     "output_type": "stream",
     "text": [
      "kakao done\n",
      "naver done\n"
     ]
    },
    {
     "name": "stderr",
     "output_type": "stream",
     "text": [
      "\r",
      "  7%|▋         | 142/2074 [1:43:44<24:25:05, 45.50s/it]"
     ]
    },
    {
     "name": "stdout",
     "output_type": "stream",
     "text": [
      "kakao done\n",
      "Alert Text: 비공개 글 입니다.\n",
      "Message: unexpected alert open: {Alert text : 비공개 글 입니다.}\n",
      "  (Session info: chrome=108.0.5359.99)\n",
      "Stacktrace:\n",
      "Backtrace:\n",
      "\t(No symbol) [0x00EDF243]\n",
      "\t(No symbol) [0x00E67FD1]\n",
      "\t(No symbol) [0x00D5D04D]\n",
      "\t(No symbol) [0x00DBC836]\n",
      "\t(No symbol) [0x00DA8386]\n",
      "\t(No symbol) [0x00D8163C]\n",
      "\t(No symbol) [0x00D8269D]\n",
      "\tGetHandleVerifier [0x01179A22+2655074]\n",
      "\tGetHandleVerifier [0x0116CA24+2601828]\n",
      "\tGetHandleVerifier [0x00F88C0A+619850]\n",
      "\tGetHandleVerifier [0x00F87830+614768]\n",
      "\t(No symbol) [0x00E705FC]\n",
      "\t(No symbol) [0x00E75968]\n",
      "\t(No symbol) [0x00E75A55]\n",
      "\t(No symbol) [0x00E8051B]\n",
      "\tBaseThreadInitThunk [0x76736939+25]\n",
      "\tRtlGetFullPathName_UEx [0x77798FD2+1218]\n",
      "\tRtlGetFullPathName_UEx [0x77798F9D+1165]\n",
      "\n",
      "naver done\n"
     ]
    },
    {
     "name": "stderr",
     "output_type": "stream",
     "text": [
      "\r",
      "  7%|▋         | 143/2074 [1:44:24<23:31:04, 43.84s/it]"
     ]
    },
    {
     "name": "stdout",
     "output_type": "stream",
     "text": [
      "kakao done\n",
      "naver done\n"
     ]
    },
    {
     "name": "stderr",
     "output_type": "stream",
     "text": [
      "\r",
      "  7%|▋         | 144/2074 [1:45:17<24:58:42, 46.59s/it]"
     ]
    },
    {
     "name": "stdout",
     "output_type": "stream",
     "text": [
      "kakao done\n",
      "naver done\n"
     ]
    },
    {
     "name": "stderr",
     "output_type": "stream",
     "text": [
      "\r",
      "  7%|▋         | 145/2074 [1:46:06<25:20:08, 47.28s/it]"
     ]
    },
    {
     "name": "stdout",
     "output_type": "stream",
     "text": [
      "kakao done\n",
      "naver done\n"
     ]
    },
    {
     "name": "stderr",
     "output_type": "stream",
     "text": [
      "\r",
      "  7%|▋         | 146/2074 [1:46:41<23:19:57, 43.57s/it]"
     ]
    },
    {
     "name": "stdout",
     "output_type": "stream",
     "text": [
      "kakao done\n",
      "naver done\n"
     ]
    },
    {
     "name": "stderr",
     "output_type": "stream",
     "text": [
      "\r",
      "  7%|▋         | 147/2074 [1:47:15<21:50:22, 40.80s/it]"
     ]
    },
    {
     "name": "stdout",
     "output_type": "stream",
     "text": [
      "naver done\n"
     ]
    },
    {
     "name": "stderr",
     "output_type": "stream",
     "text": [
      "\r",
      "  7%|▋         | 148/2074 [1:47:58<22:10:18, 41.44s/it]"
     ]
    },
    {
     "name": "stdout",
     "output_type": "stream",
     "text": [
      "kakao done\n"
     ]
    },
    {
     "name": "stderr",
     "output_type": "stream",
     "text": [
      "  7%|▋         | 150/2074 [1:48:35<15:59:17, 29.92s/it]"
     ]
    },
    {
     "name": "stdout",
     "output_type": "stream",
     "text": [
      "kakao done\n",
      "naver done\n"
     ]
    },
    {
     "name": "stderr",
     "output_type": "stream",
     "text": [
      "\r",
      "  7%|▋         | 151/2074 [1:49:34<20:47:37, 38.93s/it]"
     ]
    },
    {
     "name": "stdout",
     "output_type": "stream",
     "text": [
      "kakao done\n",
      "naver done\n"
     ]
    },
    {
     "name": "stderr",
     "output_type": "stream",
     "text": [
      "  7%|▋         | 154/2074 [1:50:50<15:17:16, 28.66s/it]"
     ]
    },
    {
     "name": "stdout",
     "output_type": "stream",
     "text": [
      "kakao done\n",
      "naver done\n"
     ]
    },
    {
     "name": "stderr",
     "output_type": "stream",
     "text": [
      "\r",
      "  7%|▋         | 155/2074 [1:51:35<17:54:10, 33.59s/it]"
     ]
    },
    {
     "name": "stdout",
     "output_type": "stream",
     "text": [
      "kakao done\n",
      "naver done\n"
     ]
    },
    {
     "name": "stderr",
     "output_type": "stream",
     "text": [
      "\r",
      "  8%|▊         | 156/2074 [1:52:17<19:18:35, 36.24s/it]"
     ]
    },
    {
     "name": "stdout",
     "output_type": "stream",
     "text": [
      "kakao done\n",
      "naver done\n"
     ]
    },
    {
     "name": "stderr",
     "output_type": "stream",
     "text": [
      "  8%|▊         | 158/2074 [1:53:24<18:00:03, 33.82s/it]"
     ]
    },
    {
     "name": "stdout",
     "output_type": "stream",
     "text": [
      "kakao done\n",
      "naver done\n"
     ]
    },
    {
     "name": "stderr",
     "output_type": "stream",
     "text": [
      "\r",
      "  8%|▊         | 159/2074 [1:53:56<17:43:43, 33.33s/it]"
     ]
    },
    {
     "name": "stdout",
     "output_type": "stream",
     "text": [
      "kakao done\n",
      "naver done\n"
     ]
    },
    {
     "name": "stderr",
     "output_type": "stream",
     "text": [
      "  8%|▊         | 161/2074 [1:54:34<13:28:19, 25.35s/it]"
     ]
    },
    {
     "name": "stdout",
     "output_type": "stream",
     "text": [
      "kakao done\n",
      "Alert Text: 비공개 글 입니다.\n",
      "Message: unexpected alert open: {Alert text : 비공개 글 입니다.}\n",
      "  (Session info: chrome=108.0.5359.99)\n",
      "Stacktrace:\n",
      "Backtrace:\n",
      "\t(No symbol) [0x00EDF243]\n",
      "\t(No symbol) [0x00E67FD1]\n",
      "\t(No symbol) [0x00D5D04D]\n",
      "\t(No symbol) [0x00DBC836]\n",
      "\t(No symbol) [0x00DA8386]\n",
      "\t(No symbol) [0x00D8163C]\n",
      "\t(No symbol) [0x00D8269D]\n",
      "\tGetHandleVerifier [0x01179A22+2655074]\n",
      "\tGetHandleVerifier [0x0116CA24+2601828]\n",
      "\tGetHandleVerifier [0x00F88C0A+619850]\n",
      "\tGetHandleVerifier [0x00F87830+614768]\n",
      "\t(No symbol) [0x00E705FC]\n",
      "\t(No symbol) [0x00E75968]\n",
      "\t(No symbol) [0x00E75A55]\n",
      "\t(No symbol) [0x00E8051B]\n",
      "\tBaseThreadInitThunk [0x76736939+25]\n",
      "\tRtlGetFullPathName_UEx [0x77798FD2+1218]\n",
      "\tRtlGetFullPathName_UEx [0x77798F9D+1165]\n",
      "\n",
      "Alert Text: 비공개 글 입니다.\n",
      "Message: unexpected alert open: {Alert text : 비공개 글 입니다.}\n",
      "  (Session info: chrome=108.0.5359.99)\n",
      "Stacktrace:\n",
      "Backtrace:\n",
      "\t(No symbol) [0x00EDF243]\n",
      "\t(No symbol) [0x00E67FD1]\n",
      "\t(No symbol) [0x00D5D04D]\n",
      "\t(No symbol) [0x00DBC836]\n",
      "\t(No symbol) [0x00DA8386]\n",
      "\t(No symbol) [0x00D8163C]\n",
      "\t(No symbol) [0x00D8269D]\n",
      "\tGetHandleVerifier [0x01179A22+2655074]\n",
      "\tGetHandleVerifier [0x0116CA24+2601828]\n",
      "\tGetHandleVerifier [0x00F88C0A+619850]\n",
      "\tGetHandleVerifier [0x00F87830+614768]\n",
      "\t(No symbol) [0x00E705FC]\n",
      "\t(No symbol) [0x00E75968]\n",
      "\t(No symbol) [0x00E75A55]\n",
      "\t(No symbol) [0x00E8051B]\n",
      "\tBaseThreadInitThunk [0x76736939+25]\n",
      "\tRtlGetFullPathName_UEx [0x77798FD2+1218]\n",
      "\tRtlGetFullPathName_UEx [0x77798F9D+1165]\n",
      "\n",
      "naver done\n"
     ]
    },
    {
     "name": "stderr",
     "output_type": "stream",
     "text": [
      "\r",
      "  8%|▊         | 162/2074 [1:56:22<26:40:38, 50.23s/it]"
     ]
    },
    {
     "name": "stdout",
     "output_type": "stream",
     "text": [
      "kakao done\n",
      "naver done\n"
     ]
    },
    {
     "name": "stderr",
     "output_type": "stream",
     "text": [
      "\r",
      "  8%|▊         | 163/2074 [1:56:57<24:15:17, 45.69s/it]"
     ]
    },
    {
     "name": "stdout",
     "output_type": "stream",
     "text": [
      "kakao done\n",
      "Alert Text: 비공개 글 입니다.\n",
      "Message: unexpected alert open: {Alert text : 비공개 글 입니다.}\n",
      "  (Session info: chrome=108.0.5359.99)\n",
      "Stacktrace:\n",
      "Backtrace:\n",
      "\t(No symbol) [0x00EDF243]\n",
      "\t(No symbol) [0x00E67FD1]\n",
      "\t(No symbol) [0x00D5D04D]\n",
      "\t(No symbol) [0x00DBC836]\n",
      "\t(No symbol) [0x00DA8386]\n",
      "\t(No symbol) [0x00D8163C]\n",
      "\t(No symbol) [0x00D8269D]\n",
      "\tGetHandleVerifier [0x01179A22+2655074]\n",
      "\tGetHandleVerifier [0x0116CA24+2601828]\n",
      "\tGetHandleVerifier [0x00F88C0A+619850]\n",
      "\tGetHandleVerifier [0x00F87830+614768]\n",
      "\t(No symbol) [0x00E705FC]\n",
      "\t(No symbol) [0x00E75968]\n",
      "\t(No symbol) [0x00E75A55]\n",
      "\t(No symbol) [0x00E8051B]\n",
      "\tBaseThreadInitThunk [0x76736939+25]\n",
      "\tRtlGetFullPathName_UEx [0x77798FD2+1218]\n",
      "\tRtlGetFullPathName_UEx [0x77798F9D+1165]\n",
      "\n",
      "naver done\n"
     ]
    },
    {
     "name": "stderr",
     "output_type": "stream",
     "text": [
      "\r",
      "  8%|▊         | 164/2074 [1:57:45<24:35:51, 46.36s/it]"
     ]
    },
    {
     "name": "stdout",
     "output_type": "stream",
     "text": [
      "kakao done\n",
      "Alert Text: 게시물이 삭제되었거나 다른 페이지로 변경되었습니다.\n",
      "Message: unexpected alert open: {Alert text : 게시물이 삭제되었거나 다른 페이지로 변경되었습니다.}\n",
      "  (Session info: chrome=108.0.5359.99)\n",
      "Stacktrace:\n",
      "Backtrace:\n",
      "\t(No symbol) [0x00EDF243]\n",
      "\t(No symbol) [0x00E67FD1]\n",
      "\t(No symbol) [0x00D5D04D]\n",
      "\t(No symbol) [0x00DBC836]\n",
      "\t(No symbol) [0x00DA8386]\n",
      "\t(No symbol) [0x00D8163C]\n",
      "\t(No symbol) [0x00D8269D]\n",
      "\tGetHandleVerifier [0x01179A22+2655074]\n",
      "\tGetHandleVerifier [0x0116CA24+2601828]\n",
      "\tGetHandleVerifier [0x00F88C0A+619850]\n",
      "\tGetHandleVerifier [0x00F87830+614768]\n",
      "\t(No symbol) [0x00E705FC]\n",
      "\t(No symbol) [0x00E75968]\n",
      "\t(No symbol) [0x00E75A55]\n",
      "\t(No symbol) [0x00E8051B]\n",
      "\tBaseThreadInitThunk [0x76736939+25]\n",
      "\tRtlGetFullPathName_UEx [0x77798FD2+1218]\n",
      "\tRtlGetFullPathName_UEx [0x77798F9D+1165]\n",
      "\n",
      "naver done\n"
     ]
    },
    {
     "name": "stderr",
     "output_type": "stream",
     "text": [
      "\r",
      "  8%|▊         | 165/2074 [1:58:19<22:41:31, 42.79s/it]"
     ]
    },
    {
     "name": "stdout",
     "output_type": "stream",
     "text": [
      "naver done\n"
     ]
    },
    {
     "name": "stderr",
     "output_type": "stream",
     "text": [
      "\r",
      "  8%|▊         | 166/2074 [1:59:11<24:01:54, 45.34s/it]"
     ]
    },
    {
     "name": "stdout",
     "output_type": "stream",
     "text": [
      "kakao done\n",
      "naver done\n"
     ]
    },
    {
     "name": "stderr",
     "output_type": "stream",
     "text": [
      "\r",
      "  8%|▊         | 167/2074 [1:59:49<22:50:02, 43.11s/it]"
     ]
    },
    {
     "name": "stdout",
     "output_type": "stream",
     "text": [
      "kakao done\n",
      "naver done\n"
     ]
    },
    {
     "name": "stderr",
     "output_type": "stream",
     "text": [
      "\r",
      "  8%|▊         | 168/2074 [2:00:38<23:47:18, 44.93s/it]"
     ]
    },
    {
     "name": "stdout",
     "output_type": "stream",
     "text": [
      "kakao done\n",
      "naver done\n"
     ]
    },
    {
     "name": "stderr",
     "output_type": "stream",
     "text": [
      "\r",
      "  8%|▊         | 169/2074 [2:01:24<23:55:20, 45.21s/it]"
     ]
    },
    {
     "name": "stdout",
     "output_type": "stream",
     "text": [
      "kakao done\n",
      "naver done\n"
     ]
    },
    {
     "name": "stderr",
     "output_type": "stream",
     "text": [
      "  8%|▊         | 172/2074 [2:02:55<17:50:18, 33.76s/it]"
     ]
    },
    {
     "name": "stdout",
     "output_type": "stream",
     "text": [
      "kakao done\n",
      "naver done\n"
     ]
    },
    {
     "name": "stderr",
     "output_type": "stream",
     "text": [
      "\r",
      "  8%|▊         | 173/2074 [2:03:33<18:23:43, 34.84s/it]"
     ]
    },
    {
     "name": "stdout",
     "output_type": "stream",
     "text": [
      "kakao done\n",
      "Alert Text: 비공개 글 입니다.\n",
      "Message: unexpected alert open: {Alert text : 비공개 글 입니다.}\n",
      "  (Session info: chrome=108.0.5359.99)\n",
      "Stacktrace:\n",
      "Backtrace:\n",
      "\t(No symbol) [0x00EDF243]\n",
      "\t(No symbol) [0x00E67FD1]\n",
      "\t(No symbol) [0x00D5D04D]\n",
      "\t(No symbol) [0x00DBC836]\n",
      "\t(No symbol) [0x00DA8386]\n",
      "\t(No symbol) [0x00D8163C]\n",
      "\t(No symbol) [0x00D8269D]\n",
      "\tGetHandleVerifier [0x01179A22+2655074]\n",
      "\tGetHandleVerifier [0x0116CA24+2601828]\n",
      "\tGetHandleVerifier [0x00F88C0A+619850]\n",
      "\tGetHandleVerifier [0x00F87830+614768]\n",
      "\t(No symbol) [0x00E705FC]\n",
      "\t(No symbol) [0x00E75968]\n",
      "\t(No symbol) [0x00E75A55]\n",
      "\t(No symbol) [0x00E8051B]\n",
      "\tBaseThreadInitThunk [0x76736939+25]\n",
      "\tRtlGetFullPathName_UEx [0x77798FD2+1218]\n",
      "\tRtlGetFullPathName_UEx [0x77798F9D+1165]\n",
      "\n",
      "naver done\n"
     ]
    },
    {
     "name": "stderr",
     "output_type": "stream",
     "text": [
      "\r",
      "  8%|▊         | 174/2074 [2:04:30<21:57:51, 41.62s/it]"
     ]
    },
    {
     "name": "stdout",
     "output_type": "stream",
     "text": [
      "kakao done\n"
     ]
    },
    {
     "name": "stderr",
     "output_type": "stream",
     "text": [
      "  8%|▊         | 176/2074 [2:04:57<14:21:22, 27.23s/it]"
     ]
    },
    {
     "name": "stdout",
     "output_type": "stream",
     "text": [
      "kakao done\n",
      "naver done\n"
     ]
    },
    {
     "name": "stderr",
     "output_type": "stream",
     "text": [
      "\r",
      "  9%|▊         | 177/2074 [2:05:35<16:03:47, 30.48s/it]"
     ]
    },
    {
     "name": "stdout",
     "output_type": "stream",
     "text": [
      "kakao done\n",
      "naver done\n"
     ]
    },
    {
     "name": "stderr",
     "output_type": "stream",
     "text": [
      "\r",
      "  9%|▊         | 178/2074 [2:06:57<24:09:41, 45.88s/it]"
     ]
    },
    {
     "name": "stdout",
     "output_type": "stream",
     "text": [
      "kakao done\n",
      "naver done\n"
     ]
    },
    {
     "name": "stderr",
     "output_type": "stream",
     "text": [
      "\r",
      "  9%|▊         | 179/2074 [2:07:40<23:39:40, 44.95s/it]"
     ]
    },
    {
     "name": "stdout",
     "output_type": "stream",
     "text": [
      "naver done\n"
     ]
    },
    {
     "name": "stderr",
     "output_type": "stream",
     "text": [
      "\r",
      "  9%|▊         | 180/2074 [2:08:22<23:12:09, 44.10s/it]"
     ]
    },
    {
     "name": "stdout",
     "output_type": "stream",
     "text": [
      "kakao done\n"
     ]
    },
    {
     "name": "stderr",
     "output_type": "stream",
     "text": [
      "\r",
      "  9%|▊         | 181/2074 [2:08:59<22:00:26, 41.85s/it]"
     ]
    },
    {
     "name": "stdout",
     "output_type": "stream",
     "text": [
      "naver done\n"
     ]
    },
    {
     "name": "stderr",
     "output_type": "stream",
     "text": [
      "\r",
      "  9%|▉         | 182/2074 [2:09:43<22:23:09, 42.59s/it]"
     ]
    },
    {
     "name": "stdout",
     "output_type": "stream",
     "text": [
      "kakao done\n",
      "naver done\n"
     ]
    },
    {
     "name": "stderr",
     "output_type": "stream",
     "text": [
      "\r",
      "  9%|▉         | 183/2074 [2:10:08<19:36:46, 37.34s/it]"
     ]
    },
    {
     "name": "stdout",
     "output_type": "stream",
     "text": [
      "kakao done\n"
     ]
    },
    {
     "name": "stderr",
     "output_type": "stream",
     "text": [
      "\r",
      "  9%|▉         | 184/2074 [2:10:32<17:27:30, 33.25s/it]"
     ]
    },
    {
     "name": "stdout",
     "output_type": "stream",
     "text": [
      "kakao done\n",
      "naver done\n"
     ]
    },
    {
     "name": "stderr",
     "output_type": "stream",
     "text": [
      "\r",
      "  9%|▉         | 185/2074 [2:11:16<19:09:31, 36.51s/it]"
     ]
    },
    {
     "name": "stdout",
     "output_type": "stream",
     "text": [
      "kakao done\n",
      "naver done\n"
     ]
    },
    {
     "name": "stderr",
     "output_type": "stream",
     "text": [
      "\r",
      "  9%|▉         | 186/2074 [2:12:05<21:02:35, 40.12s/it]"
     ]
    },
    {
     "name": "stdout",
     "output_type": "stream",
     "text": [
      "kakao done\n",
      "naver done\n"
     ]
    },
    {
     "name": "stderr",
     "output_type": "stream",
     "text": [
      "  9%|▉         | 188/2074 [2:12:51<16:01:16, 30.58s/it]"
     ]
    },
    {
     "name": "stdout",
     "output_type": "stream",
     "text": [
      "naver done\n"
     ]
    },
    {
     "name": "stderr",
     "output_type": "stream",
     "text": [
      "\r",
      "  9%|▉         | 189/2074 [2:13:30<17:22:10, 33.17s/it]"
     ]
    },
    {
     "name": "stdout",
     "output_type": "stream",
     "text": [
      "kakao done\n",
      "Alert Text: 비공개 글 입니다.\n",
      "Message: unexpected alert open: {Alert text : 비공개 글 입니다.}\n",
      "  (Session info: chrome=108.0.5359.99)\n",
      "Stacktrace:\n",
      "Backtrace:\n",
      "\t(No symbol) [0x00EDF243]\n",
      "\t(No symbol) [0x00E67FD1]\n",
      "\t(No symbol) [0x00D5D04D]\n",
      "\t(No symbol) [0x00DBC836]\n",
      "\t(No symbol) [0x00DA8386]\n",
      "\t(No symbol) [0x00D8163C]\n",
      "\t(No symbol) [0x00D8269D]\n",
      "\tGetHandleVerifier [0x01179A22+2655074]\n",
      "\tGetHandleVerifier [0x0116CA24+2601828]\n",
      "\tGetHandleVerifier [0x00F88C0A+619850]\n",
      "\tGetHandleVerifier [0x00F87830+614768]\n",
      "\t(No symbol) [0x00E705FC]\n",
      "\t(No symbol) [0x00E75968]\n",
      "\t(No symbol) [0x00E75A55]\n",
      "\t(No symbol) [0x00E8051B]\n",
      "\tBaseThreadInitThunk [0x76736939+25]\n",
      "\tRtlGetFullPathName_UEx [0x77798FD2+1218]\n",
      "\tRtlGetFullPathName_UEx [0x77798F9D+1165]\n",
      "\n",
      "naver done\n"
     ]
    },
    {
     "name": "stderr",
     "output_type": "stream",
     "text": [
      "\r",
      "  9%|▉         | 190/2074 [2:14:09<18:17:28, 34.95s/it]"
     ]
    },
    {
     "name": "stdout",
     "output_type": "stream",
     "text": [
      "naver done\n"
     ]
    },
    {
     "name": "stderr",
     "output_type": "stream",
     "text": [
      "\r",
      "  9%|▉         | 191/2074 [2:14:33<16:31:49, 31.60s/it]"
     ]
    },
    {
     "name": "stdout",
     "output_type": "stream",
     "text": [
      "kakao done\n",
      "naver done\n"
     ]
    },
    {
     "name": "stderr",
     "output_type": "stream",
     "text": [
      "\r",
      "  9%|▉         | 192/2074 [2:14:56<15:12:10, 29.08s/it]"
     ]
    },
    {
     "name": "stdout",
     "output_type": "stream",
     "text": [
      "kakao done\n"
     ]
    },
    {
     "name": "stderr",
     "output_type": "stream",
     "text": [
      "\r",
      "  9%|▉         | 193/2074 [2:15:10<12:42:57, 24.34s/it]"
     ]
    },
    {
     "name": "stdout",
     "output_type": "stream",
     "text": [
      "kakao done\n",
      "naver done\n"
     ]
    },
    {
     "name": "stderr",
     "output_type": "stream",
     "text": [
      "\r",
      "  9%|▉         | 194/2074 [2:16:02<17:08:46, 32.83s/it]"
     ]
    },
    {
     "name": "stdout",
     "output_type": "stream",
     "text": [
      "kakao done\n",
      "naver done\n"
     ]
    },
    {
     "name": "stderr",
     "output_type": "stream",
     "text": [
      "  9%|▉         | 196/2074 [2:17:17<17:38:06, 33.81s/it]"
     ]
    },
    {
     "name": "stdout",
     "output_type": "stream",
     "text": [
      "kakao done\n",
      "naver done\n"
     ]
    },
    {
     "name": "stderr",
     "output_type": "stream",
     "text": [
      "\r",
      "  9%|▉         | 197/2074 [2:17:50<17:27:54, 33.50s/it]"
     ]
    },
    {
     "name": "stdout",
     "output_type": "stream",
     "text": [
      "kakao done\n",
      "Alert Text: 게시물이 삭제되었거나 다른 페이지로 변경되었습니다.\n",
      "Message: unexpected alert open: {Alert text : 게시물이 삭제되었거나 다른 페이지로 변경되었습니다.}\n",
      "  (Session info: chrome=108.0.5359.99)\n",
      "Stacktrace:\n",
      "Backtrace:\n",
      "\t(No symbol) [0x00EDF243]\n",
      "\t(No symbol) [0x00E67FD1]\n",
      "\t(No symbol) [0x00D5D04D]\n",
      "\t(No symbol) [0x00DBC836]\n",
      "\t(No symbol) [0x00DA8386]\n",
      "\t(No symbol) [0x00D8163C]\n",
      "\t(No symbol) [0x00D8269D]\n",
      "\tGetHandleVerifier [0x01179A22+2655074]\n",
      "\tGetHandleVerifier [0x0116CA24+2601828]\n",
      "\tGetHandleVerifier [0x00F88C0A+619850]\n",
      "\tGetHandleVerifier [0x00F87830+614768]\n",
      "\t(No symbol) [0x00E705FC]\n",
      "\t(No symbol) [0x00E75968]\n",
      "\t(No symbol) [0x00E75A55]\n",
      "\t(No symbol) [0x00E8051B]\n",
      "\tBaseThreadInitThunk [0x76736939+25]\n",
      "\tRtlGetFullPathName_UEx [0x77798FD2+1218]\n",
      "\tRtlGetFullPathName_UEx [0x77798F9D+1165]\n",
      "\n",
      "naver done\n"
     ]
    },
    {
     "name": "stderr",
     "output_type": "stream",
     "text": [
      "\r",
      " 10%|▉         | 198/2074 [2:18:24<17:29:05, 33.55s/it]"
     ]
    },
    {
     "name": "stdout",
     "output_type": "stream",
     "text": [
      "kakao done\n",
      "naver done\n"
     ]
    },
    {
     "name": "stderr",
     "output_type": "stream",
     "text": [
      "\r",
      " 10%|▉         | 199/2074 [2:18:56<17:20:14, 33.29s/it]"
     ]
    },
    {
     "name": "stdout",
     "output_type": "stream",
     "text": [
      "kakao done\n",
      "Alert Text: 비공개 글 입니다.\n",
      "Message: unexpected alert open: {Alert text : 비공개 글 입니다.}\n",
      "  (Session info: chrome=108.0.5359.99)\n",
      "Stacktrace:\n",
      "Backtrace:\n",
      "\t(No symbol) [0x00EDF243]\n",
      "\t(No symbol) [0x00E67FD1]\n",
      "\t(No symbol) [0x00D5D04D]\n",
      "\t(No symbol) [0x00DBC836]\n",
      "\t(No symbol) [0x00DA8386]\n",
      "\t(No symbol) [0x00D8163C]\n",
      "\t(No symbol) [0x00D8269D]\n",
      "\tGetHandleVerifier [0x01179A22+2655074]\n",
      "\tGetHandleVerifier [0x0116CA24+2601828]\n",
      "\tGetHandleVerifier [0x00F88C0A+619850]\n",
      "\tGetHandleVerifier [0x00F87830+614768]\n",
      "\t(No symbol) [0x00E705FC]\n",
      "\t(No symbol) [0x00E75968]\n",
      "\t(No symbol) [0x00E75A55]\n",
      "\t(No symbol) [0x00E8051B]\n",
      "\tBaseThreadInitThunk [0x76736939+25]\n",
      "\tRtlGetFullPathName_UEx [0x77798FD2+1218]\n",
      "\tRtlGetFullPathName_UEx [0x77798F9D+1165]\n",
      "\n",
      "naver done\n"
     ]
    },
    {
     "name": "stderr",
     "output_type": "stream",
     "text": [
      "\r",
      " 10%|▉         | 200/2074 [2:19:34<18:02:11, 34.65s/it]"
     ]
    },
    {
     "name": "stdout",
     "output_type": "stream",
     "text": [
      "kakao done\n"
     ]
    },
    {
     "name": "stderr",
     "output_type": "stream",
     "text": [
      "\r",
      " 10%|▉         | 201/2074 [2:19:57<16:13:10, 31.17s/it]"
     ]
    },
    {
     "name": "stdout",
     "output_type": "stream",
     "text": [
      "kakao done\n"
     ]
    },
    {
     "name": "stderr",
     "output_type": "stream",
     "text": [
      "\r",
      " 10%|▉         | 202/2074 [2:20:10<13:25:32, 25.82s/it]"
     ]
    },
    {
     "name": "stdout",
     "output_type": "stream",
     "text": [
      "kakao done\n",
      "naver done\n"
     ]
    },
    {
     "name": "stderr",
     "output_type": "stream",
     "text": [
      "\r",
      " 10%|▉         | 203/2074 [2:20:43<14:24:41, 27.73s/it]"
     ]
    },
    {
     "name": "stdout",
     "output_type": "stream",
     "text": [
      "naver done\n"
     ]
    },
    {
     "name": "stderr",
     "output_type": "stream",
     "text": [
      "\r",
      " 10%|▉         | 205/2074 [2:21:28<13:13:55, 25.49s/it]"
     ]
    },
    {
     "name": "stdout",
     "output_type": "stream",
     "text": [
      "kakao done\n",
      "naver done\n"
     ]
    },
    {
     "name": "stderr",
     "output_type": "stream",
     "text": [
      "\r",
      " 10%|▉         | 206/2074 [2:22:23<17:00:27, 32.78s/it]"
     ]
    },
    {
     "name": "stdout",
     "output_type": "stream",
     "text": [
      "kakao done\n",
      "naver done\n"
     ]
    },
    {
     "name": "stderr",
     "output_type": "stream",
     "text": [
      " 10%|█         | 208/2074 [2:23:28<16:28:01, 31.77s/it]"
     ]
    },
    {
     "name": "stdout",
     "output_type": "stream",
     "text": [
      "kakao done\n",
      "naver done\n"
     ]
    },
    {
     "name": "stderr",
     "output_type": "stream",
     "text": [
      "\r",
      " 10%|█         | 209/2074 [2:23:48<14:43:55, 28.44s/it]"
     ]
    },
    {
     "name": "stdout",
     "output_type": "stream",
     "text": [
      "naver done\n"
     ]
    },
    {
     "name": "stderr",
     "output_type": "stream",
     "text": [
      "\r",
      " 10%|█         | 210/2074 [2:24:41<18:21:43, 35.46s/it]"
     ]
    },
    {
     "name": "stdout",
     "output_type": "stream",
     "text": [
      "kakao done\n",
      "Alert Text: 비공개 글 입니다.\n",
      "Message: unexpected alert open: {Alert text : 비공개 글 입니다.}\n",
      "  (Session info: chrome=108.0.5359.99)\n",
      "Stacktrace:\n",
      "Backtrace:\n",
      "\t(No symbol) [0x00EDF243]\n",
      "\t(No symbol) [0x00E67FD1]\n",
      "\t(No symbol) [0x00D5D04D]\n",
      "\t(No symbol) [0x00DBC836]\n",
      "\t(No symbol) [0x00DA8386]\n",
      "\t(No symbol) [0x00D8163C]\n",
      "\t(No symbol) [0x00D8269D]\n",
      "\tGetHandleVerifier [0x01179A22+2655074]\n",
      "\tGetHandleVerifier [0x0116CA24+2601828]\n",
      "\tGetHandleVerifier [0x00F88C0A+619850]\n",
      "\tGetHandleVerifier [0x00F87830+614768]\n",
      "\t(No symbol) [0x00E705FC]\n",
      "\t(No symbol) [0x00E75968]\n",
      "\t(No symbol) [0x00E75A55]\n",
      "\t(No symbol) [0x00E8051B]\n",
      "\tBaseThreadInitThunk [0x76736939+25]\n",
      "\tRtlGetFullPathName_UEx [0x77798FD2+1218]\n",
      "\tRtlGetFullPathName_UEx [0x77798F9D+1165]\n",
      "\n",
      "naver done\n"
     ]
    },
    {
     "name": "stderr",
     "output_type": "stream",
     "text": [
      "\r",
      " 10%|█         | 211/2074 [2:25:22<19:16:08, 37.23s/it]"
     ]
    },
    {
     "name": "stdout",
     "output_type": "stream",
     "text": [
      "kakao done\n"
     ]
    },
    {
     "name": "stderr",
     "output_type": "stream",
     "text": [
      "\r",
      " 10%|█         | 212/2074 [2:25:27<14:22:09, 27.78s/it]"
     ]
    },
    {
     "name": "stdout",
     "output_type": "stream",
     "text": [
      "kakao done\n",
      "Alert Text: 비공개 글 입니다.\n",
      "Message: unexpected alert open: {Alert text : 비공개 글 입니다.}\n",
      "  (Session info: chrome=108.0.5359.99)\n",
      "Stacktrace:\n",
      "Backtrace:\n",
      "\t(No symbol) [0x00EDF243]\n",
      "\t(No symbol) [0x00E67FD1]\n",
      "\t(No symbol) [0x00D5D04D]\n",
      "\t(No symbol) [0x00DBC836]\n",
      "\t(No symbol) [0x00DA8386]\n",
      "\t(No symbol) [0x00D8163C]\n",
      "\t(No symbol) [0x00D8269D]\n",
      "\tGetHandleVerifier [0x01179A22+2655074]\n",
      "\tGetHandleVerifier [0x0116CA24+2601828]\n",
      "\tGetHandleVerifier [0x00F88C0A+619850]\n",
      "\tGetHandleVerifier [0x00F87830+614768]\n",
      "\t(No symbol) [0x00E705FC]\n",
      "\t(No symbol) [0x00E75968]\n",
      "\t(No symbol) [0x00E75A55]\n",
      "\t(No symbol) [0x00E8051B]\n",
      "\tBaseThreadInitThunk [0x76736939+25]\n",
      "\tRtlGetFullPathName_UEx [0x77798FD2+1218]\n",
      "\tRtlGetFullPathName_UEx [0x77798F9D+1165]\n",
      "\n",
      "naver done\n"
     ]
    },
    {
     "name": "stderr",
     "output_type": "stream",
     "text": [
      "\r",
      " 10%|█         | 213/2074 [2:25:57<14:36:12, 28.25s/it]"
     ]
    },
    {
     "name": "stdout",
     "output_type": "stream",
     "text": [
      "kakao done\n",
      "naver done\n"
     ]
    },
    {
     "name": "stderr",
     "output_type": "stream",
     "text": [
      "\r",
      " 10%|█         | 214/2074 [2:27:08<21:13:17, 41.07s/it]"
     ]
    },
    {
     "name": "stdout",
     "output_type": "stream",
     "text": [
      "kakao done\n",
      "Alert Text: 게시물이 삭제되었거나 다른 페이지로 변경되었습니다.\n",
      "Message: unexpected alert open: {Alert text : 게시물이 삭제되었거나 다른 페이지로 변경되었습니다.}\n",
      "  (Session info: chrome=108.0.5359.99)\n",
      "Stacktrace:\n",
      "Backtrace:\n",
      "\t(No symbol) [0x00EDF243]\n",
      "\t(No symbol) [0x00E67FD1]\n",
      "\t(No symbol) [0x00D5D04D]\n",
      "\t(No symbol) [0x00DBC836]\n",
      "\t(No symbol) [0x00DA8386]\n",
      "\t(No symbol) [0x00D8163C]\n",
      "\t(No symbol) [0x00D8269D]\n",
      "\tGetHandleVerifier [0x01179A22+2655074]\n",
      "\tGetHandleVerifier [0x0116CA24+2601828]\n",
      "\tGetHandleVerifier [0x00F88C0A+619850]\n",
      "\tGetHandleVerifier [0x00F87830+614768]\n",
      "\t(No symbol) [0x00E705FC]\n",
      "\t(No symbol) [0x00E75968]\n",
      "\t(No symbol) [0x00E75A55]\n",
      "\t(No symbol) [0x00E8051B]\n",
      "\tBaseThreadInitThunk [0x76736939+25]\n",
      "\tRtlGetFullPathName_UEx [0x77798FD2+1218]\n",
      "\tRtlGetFullPathName_UEx [0x77798F9D+1165]\n",
      "\n",
      "naver done\n"
     ]
    },
    {
     "name": "stderr",
     "output_type": "stream",
     "text": [
      "\r",
      " 10%|█         | 215/2074 [2:28:17<25:31:21, 49.43s/it]"
     ]
    },
    {
     "name": "stdout",
     "output_type": "stream",
     "text": [
      "kakao done\n",
      "naver done\n"
     ]
    },
    {
     "name": "stderr",
     "output_type": "stream",
     "text": [
      "\r",
      " 10%|█         | 216/2074 [2:29:00<24:27:47, 47.40s/it]"
     ]
    },
    {
     "name": "stdout",
     "output_type": "stream",
     "text": [
      "kakao done\n",
      "naver done\n"
     ]
    },
    {
     "name": "stderr",
     "output_type": "stream",
     "text": [
      "\r",
      " 10%|█         | 217/2074 [2:29:35<22:28:32, 43.57s/it]"
     ]
    },
    {
     "name": "stdout",
     "output_type": "stream",
     "text": [
      "kakao done\n",
      "naver done\n"
     ]
    },
    {
     "name": "stderr",
     "output_type": "stream",
     "text": [
      "\r",
      " 11%|█         | 218/2074 [2:30:41<25:55:01, 50.27s/it]"
     ]
    },
    {
     "name": "stdout",
     "output_type": "stream",
     "text": [
      "kakao done\n",
      "naver done\n"
     ]
    },
    {
     "name": "stderr",
     "output_type": "stream",
     "text": [
      "\r",
      " 11%|█         | 219/2074 [2:31:21<24:22:29, 47.30s/it]"
     ]
    },
    {
     "name": "stdout",
     "output_type": "stream",
     "text": [
      "kakao done\n",
      "naver done\n"
     ]
    },
    {
     "name": "stderr",
     "output_type": "stream",
     "text": [
      "\r",
      " 11%|█         | 220/2074 [2:32:06<23:56:39, 46.49s/it]"
     ]
    },
    {
     "name": "stdout",
     "output_type": "stream",
     "text": [
      "kakao done\n",
      "naver done\n"
     ]
    },
    {
     "name": "stderr",
     "output_type": "stream",
     "text": [
      "\r",
      " 11%|█         | 221/2074 [2:32:49<23:25:21, 45.51s/it]"
     ]
    },
    {
     "name": "stdout",
     "output_type": "stream",
     "text": [
      "kakao done\n",
      "naver done\n"
     ]
    },
    {
     "name": "stderr",
     "output_type": "stream",
     "text": [
      "\r",
      " 11%|█         | 222/2074 [2:33:29<22:35:16, 43.91s/it]"
     ]
    },
    {
     "name": "stdout",
     "output_type": "stream",
     "text": [
      "kakao done\n",
      "naver done\n"
     ]
    },
    {
     "name": "stderr",
     "output_type": "stream",
     "text": [
      "\r",
      " 11%|█         | 223/2074 [2:33:52<19:20:45, 37.63s/it]"
     ]
    },
    {
     "name": "stdout",
     "output_type": "stream",
     "text": [
      "kakao done\n"
     ]
    },
    {
     "name": "stderr",
     "output_type": "stream",
     "text": [
      " 11%|█         | 225/2074 [2:34:18<12:52:35, 25.07s/it]"
     ]
    },
    {
     "name": "stdout",
     "output_type": "stream",
     "text": [
      "kakao done\n",
      "naver done\n"
     ]
    },
    {
     "name": "stderr",
     "output_type": "stream",
     "text": [
      "\r",
      " 11%|█         | 226/2074 [2:34:57<14:59:41, 29.21s/it]"
     ]
    },
    {
     "name": "stdout",
     "output_type": "stream",
     "text": [
      "kakao done\n",
      "naver done\n"
     ]
    },
    {
     "name": "stderr",
     "output_type": "stream",
     "text": [
      "\r",
      " 11%|█         | 227/2074 [2:35:12<12:42:12, 24.76s/it]"
     ]
    },
    {
     "name": "stdout",
     "output_type": "stream",
     "text": [
      "naver done\n"
     ]
    },
    {
     "name": "stderr",
     "output_type": "stream",
     "text": [
      "\r",
      " 11%|█         | 228/2074 [2:35:55<15:33:45, 30.35s/it]"
     ]
    },
    {
     "name": "stdout",
     "output_type": "stream",
     "text": [
      "kakao done\n",
      "naver done\n"
     ]
    },
    {
     "name": "stderr",
     "output_type": "stream",
     "text": [
      "\r",
      " 11%|█         | 229/2074 [2:36:47<18:56:36, 36.96s/it]"
     ]
    },
    {
     "name": "stdout",
     "output_type": "stream",
     "text": [
      "naver done\n"
     ]
    },
    {
     "name": "stderr",
     "output_type": "stream",
     "text": [
      "\r",
      " 11%|█         | 230/2074 [2:37:35<20:31:38, 40.07s/it]"
     ]
    },
    {
     "name": "stdout",
     "output_type": "stream",
     "text": [
      "naver done\n"
     ]
    },
    {
     "name": "stderr",
     "output_type": "stream",
     "text": [
      "\r",
      " 11%|█         | 231/2074 [2:38:25<22:03:51, 43.10s/it]"
     ]
    },
    {
     "name": "stdout",
     "output_type": "stream",
     "text": [
      "kakao done\n",
      "naver done\n"
     ]
    },
    {
     "name": "stderr",
     "output_type": "stream",
     "text": [
      "\r",
      " 11%|█         | 232/2074 [2:39:49<28:18:12, 55.32s/it]"
     ]
    },
    {
     "name": "stdout",
     "output_type": "stream",
     "text": [
      "kakao done\n",
      "naver done\n"
     ]
    },
    {
     "name": "stderr",
     "output_type": "stream",
     "text": [
      "\r",
      " 11%|█         | 233/2074 [2:40:11<23:15:16, 45.47s/it]"
     ]
    },
    {
     "name": "stdout",
     "output_type": "stream",
     "text": [
      "kakao done\n",
      "naver done\n"
     ]
    },
    {
     "name": "stderr",
     "output_type": "stream",
     "text": [
      "\r",
      " 11%|█▏        | 234/2074 [2:41:10<25:14:06, 49.37s/it]"
     ]
    },
    {
     "name": "stdout",
     "output_type": "stream",
     "text": [
      "kakao done\n"
     ]
    },
    {
     "name": "stderr",
     "output_type": "stream",
     "text": [
      "\r",
      " 11%|█▏        | 235/2074 [2:41:56<24:46:19, 48.49s/it]"
     ]
    },
    {
     "name": "stdout",
     "output_type": "stream",
     "text": [
      "kakao done\n",
      "naver done\n"
     ]
    },
    {
     "name": "stderr",
     "output_type": "stream",
     "text": [
      "\r",
      " 11%|█▏        | 236/2074 [2:42:38<23:43:53, 46.48s/it]"
     ]
    },
    {
     "name": "stdout",
     "output_type": "stream",
     "text": [
      "kakao done\n",
      "naver done\n"
     ]
    },
    {
     "name": "stderr",
     "output_type": "stream",
     "text": [
      "\r",
      " 11%|█▏        | 237/2074 [2:43:23<23:27:39, 45.98s/it]"
     ]
    },
    {
     "name": "stdout",
     "output_type": "stream",
     "text": [
      "kakao done\n",
      "naver done\n"
     ]
    },
    {
     "name": "stderr",
     "output_type": "stream",
     "text": [
      " 12%|█▏        | 240/2074 [2:44:26<14:33:18, 28.57s/it]"
     ]
    },
    {
     "name": "stdout",
     "output_type": "stream",
     "text": [
      "kakao done\n"
     ]
    },
    {
     "name": "stderr",
     "output_type": "stream",
     "text": [
      "\r",
      " 12%|█▏        | 241/2074 [2:44:51<13:52:36, 27.25s/it]"
     ]
    },
    {
     "name": "stdout",
     "output_type": "stream",
     "text": [
      "kakao done\n",
      "naver done\n"
     ]
    },
    {
     "name": "stderr",
     "output_type": "stream",
     "text": [
      "\r",
      " 12%|█▏        | 242/2074 [2:45:22<14:30:38, 28.51s/it]"
     ]
    },
    {
     "name": "stdout",
     "output_type": "stream",
     "text": [
      "kakao done\n",
      "naver done\n"
     ]
    },
    {
     "name": "stderr",
     "output_type": "stream",
     "text": [
      "\r",
      " 12%|█▏        | 243/2074 [2:45:54<15:05:17, 29.67s/it]"
     ]
    },
    {
     "name": "stdout",
     "output_type": "stream",
     "text": [
      "kakao done\n"
     ]
    },
    {
     "name": "stderr",
     "output_type": "stream",
     "text": [
      "\r",
      " 12%|█▏        | 244/2074 [2:46:00<11:25:21, 22.47s/it]"
     ]
    },
    {
     "name": "stdout",
     "output_type": "stream",
     "text": [
      "kakao done\n",
      "naver done\n"
     ]
    },
    {
     "name": "stderr",
     "output_type": "stream",
     "text": [
      "\r",
      " 12%|█▏        | 245/2074 [2:46:45<14:49:13, 29.17s/it]"
     ]
    },
    {
     "name": "stdout",
     "output_type": "stream",
     "text": [
      "kakao done\n",
      "naver done\n"
     ]
    },
    {
     "name": "stderr",
     "output_type": "stream",
     "text": [
      "\r",
      " 12%|█▏        | 246/2074 [2:47:22<16:02:18, 31.59s/it]"
     ]
    },
    {
     "name": "stdout",
     "output_type": "stream",
     "text": [
      "kakao done\n"
     ]
    },
    {
     "name": "stderr",
     "output_type": "stream",
     "text": [
      "\r",
      " 12%|█▏        | 247/2074 [2:47:47<14:59:34, 29.54s/it]"
     ]
    },
    {
     "name": "stdout",
     "output_type": "stream",
     "text": [
      "kakao done\n"
     ]
    },
    {
     "name": "stderr",
     "output_type": "stream",
     "text": [
      "\r",
      " 12%|█▏        | 248/2074 [2:48:10<13:58:44, 27.56s/it]"
     ]
    },
    {
     "name": "stdout",
     "output_type": "stream",
     "text": [
      "kakao done\n",
      "naver done\n"
     ]
    },
    {
     "name": "stderr",
     "output_type": "stream",
     "text": [
      "\r",
      " 12%|█▏        | 249/2074 [2:48:59<17:11:36, 33.92s/it]"
     ]
    },
    {
     "name": "stdout",
     "output_type": "stream",
     "text": [
      "kakao done\n",
      "naver done\n"
     ]
    },
    {
     "name": "stderr",
     "output_type": "stream",
     "text": [
      "\r",
      " 12%|█▏        | 250/2074 [2:49:49<19:41:30, 38.87s/it]"
     ]
    },
    {
     "name": "stdout",
     "output_type": "stream",
     "text": [
      "kakao done\n"
     ]
    },
    {
     "name": "stderr",
     "output_type": "stream",
     "text": [
      "\r",
      " 12%|█▏        | 251/2074 [2:49:53<14:25:30, 28.49s/it]"
     ]
    },
    {
     "name": "stdout",
     "output_type": "stream",
     "text": [
      "naver done\n"
     ]
    },
    {
     "name": "stderr",
     "output_type": "stream",
     "text": [
      " 12%|█▏        | 253/2074 [2:50:56<14:40:02, 29.00s/it]"
     ]
    },
    {
     "name": "stdout",
     "output_type": "stream",
     "text": [
      "kakao done\n",
      "naver done\n"
     ]
    },
    {
     "name": "stderr",
     "output_type": "stream",
     "text": [
      "\r",
      " 12%|█▏        | 254/2074 [2:51:26<14:53:00, 29.44s/it]"
     ]
    },
    {
     "name": "stdout",
     "output_type": "stream",
     "text": [
      "kakao done\n",
      "naver done\n"
     ]
    },
    {
     "name": "stderr",
     "output_type": "stream",
     "text": [
      "\r",
      " 12%|█▏        | 255/2074 [2:51:46<13:20:56, 26.42s/it]"
     ]
    },
    {
     "name": "stdout",
     "output_type": "stream",
     "text": [
      "kakao done\n",
      "naver done\n"
     ]
    },
    {
     "name": "stderr",
     "output_type": "stream",
     "text": [
      "\r",
      " 12%|█▏        | 256/2074 [2:52:15<13:46:08, 27.27s/it]"
     ]
    },
    {
     "name": "stdout",
     "output_type": "stream",
     "text": [
      "naver done\n"
     ]
    },
    {
     "name": "stderr",
     "output_type": "stream",
     "text": [
      "\r",
      " 12%|█▏        | 257/2074 [2:53:08<17:42:27, 35.08s/it]"
     ]
    },
    {
     "name": "stdout",
     "output_type": "stream",
     "text": [
      "kakao done\n"
     ]
    },
    {
     "name": "stderr",
     "output_type": "stream",
     "text": [
      "\r",
      " 12%|█▏        | 258/2074 [2:53:33<16:08:35, 32.00s/it]"
     ]
    },
    {
     "name": "stdout",
     "output_type": "stream",
     "text": [
      "kakao done\n",
      "naver done\n"
     ]
    },
    {
     "name": "stderr",
     "output_type": "stream",
     "text": [
      "\r",
      " 12%|█▏        | 259/2074 [2:54:21<18:31:57, 36.76s/it]"
     ]
    },
    {
     "name": "stdout",
     "output_type": "stream",
     "text": [
      "kakao done\n",
      "Alert Text: 비공개 글 입니다.\n",
      "Message: unexpected alert open: {Alert text : 비공개 글 입니다.}\n",
      "  (Session info: chrome=108.0.5359.99)\n",
      "Stacktrace:\n",
      "Backtrace:\n",
      "\t(No symbol) [0x00EDF243]\n",
      "\t(No symbol) [0x00E67FD1]\n",
      "\t(No symbol) [0x00D5D04D]\n",
      "\t(No symbol) [0x00DBC836]\n",
      "\t(No symbol) [0x00DA8386]\n",
      "\t(No symbol) [0x00D8163C]\n",
      "\t(No symbol) [0x00D8269D]\n",
      "\tGetHandleVerifier [0x01179A22+2655074]\n",
      "\tGetHandleVerifier [0x0116CA24+2601828]\n",
      "\tGetHandleVerifier [0x00F88C0A+619850]\n",
      "\tGetHandleVerifier [0x00F87830+614768]\n",
      "\t(No symbol) [0x00E705FC]\n",
      "\t(No symbol) [0x00E75968]\n",
      "\t(No symbol) [0x00E75A55]\n",
      "\t(No symbol) [0x00E8051B]\n",
      "\tBaseThreadInitThunk [0x76736939+25]\n",
      "\tRtlGetFullPathName_UEx [0x77798FD2+1218]\n",
      "\tRtlGetFullPathName_UEx [0x77798F9D+1165]\n",
      "\n",
      "naver done\n"
     ]
    },
    {
     "name": "stderr",
     "output_type": "stream",
     "text": [
      " 13%|█▎        | 261/2074 [2:54:53<12:59:07, 25.78s/it]"
     ]
    },
    {
     "name": "stdout",
     "output_type": "stream",
     "text": [
      "kakao done\n",
      "naver done\n"
     ]
    },
    {
     "name": "stderr",
     "output_type": "stream",
     "text": [
      "\r",
      " 13%|█▎        | 262/2074 [2:55:40<16:11:16, 32.16s/it]"
     ]
    },
    {
     "name": "stdout",
     "output_type": "stream",
     "text": [
      "kakao done\n",
      "naver done\n"
     ]
    },
    {
     "name": "stderr",
     "output_type": "stream",
     "text": [
      "\r",
      " 13%|█▎        | 263/2074 [2:56:22<17:40:28, 35.13s/it]"
     ]
    },
    {
     "name": "stdout",
     "output_type": "stream",
     "text": [
      "kakao done\n",
      "naver done\n"
     ]
    },
    {
     "name": "stderr",
     "output_type": "stream",
     "text": [
      " 13%|█▎        | 265/2074 [2:57:27<16:35:54, 33.03s/it]"
     ]
    },
    {
     "name": "stdout",
     "output_type": "stream",
     "text": [
      "kakao done\n",
      "naver done\n"
     ]
    },
    {
     "name": "stderr",
     "output_type": "stream",
     "text": [
      "\r",
      " 13%|█▎        | 266/2074 [2:57:48<14:40:36, 29.22s/it]"
     ]
    },
    {
     "name": "stdout",
     "output_type": "stream",
     "text": [
      "kakao done\n",
      "naver done\n"
     ]
    },
    {
     "name": "stderr",
     "output_type": "stream",
     "text": [
      "\r",
      " 13%|█▎        | 267/2074 [2:58:24<15:44:03, 31.35s/it]"
     ]
    },
    {
     "name": "stdout",
     "output_type": "stream",
     "text": [
      "kakao done\n"
     ]
    },
    {
     "name": "stderr",
     "output_type": "stream",
     "text": [
      "\r",
      " 13%|█▎        | 269/2074 [2:58:30<9:06:39, 18.17s/it] "
     ]
    },
    {
     "name": "stdout",
     "output_type": "stream",
     "text": [
      "naver done\n"
     ]
    },
    {
     "name": "stderr",
     "output_type": "stream",
     "text": [
      "\r",
      " 13%|█▎        | 270/2074 [2:59:13<12:11:47, 24.34s/it]"
     ]
    },
    {
     "name": "stdout",
     "output_type": "stream",
     "text": [
      "naver done\n"
     ]
    },
    {
     "name": "stderr",
     "output_type": "stream",
     "text": [
      " 13%|█▎        | 272/2074 [3:00:19<13:44:39, 27.46s/it]"
     ]
    },
    {
     "name": "stdout",
     "output_type": "stream",
     "text": [
      "naver done\n"
     ]
    },
    {
     "name": "stderr",
     "output_type": "stream",
     "text": [
      "\r",
      " 13%|█▎        | 273/2074 [3:01:12<17:18:20, 34.59s/it]"
     ]
    },
    {
     "name": "stdout",
     "output_type": "stream",
     "text": [
      "kakao done\n"
     ]
    },
    {
     "name": "stderr",
     "output_type": "stream",
     "text": [
      "\r",
      " 13%|█▎        | 274/2074 [3:01:27<14:31:53, 29.06s/it]"
     ]
    },
    {
     "name": "stdout",
     "output_type": "stream",
     "text": [
      "kakao done\n",
      "naver done\n"
     ]
    },
    {
     "name": "stderr",
     "output_type": "stream",
     "text": [
      " 13%|█▎        | 276/2074 [3:02:14<13:06:36, 26.25s/it]"
     ]
    },
    {
     "name": "stdout",
     "output_type": "stream",
     "text": [
      "kakao done\n"
     ]
    },
    {
     "name": "stderr",
     "output_type": "stream",
     "text": [
      "\r",
      " 13%|█▎        | 277/2074 [3:02:30<11:32:16, 23.11s/it]"
     ]
    },
    {
     "name": "stdout",
     "output_type": "stream",
     "text": [
      "kakao done\n"
     ]
    }
   ],
   "source": [
    " total_crawler(driver, cafe_list, visited)"
   ]
  },
  {
   "cell_type": "code",
   "execution_count": null,
   "metadata": {},
   "outputs": [],
   "source": [
    "1610"
   ]
  }
 ],
 "metadata": {
  "kernelspec": {
   "display_name": "Python 3 (ipykernel)",
   "language": "python",
   "name": "python3"
  },
  "language_info": {
   "codemirror_mode": {
    "name": "ipython",
    "version": 3
   },
   "file_extension": ".py",
   "mimetype": "text/x-python",
   "name": "python",
   "nbconvert_exporter": "python",
   "pygments_lexer": "ipython3",
   "version": "3.8.5"
  }
 },
 "nbformat": 4,
 "nbformat_minor": 4
}
